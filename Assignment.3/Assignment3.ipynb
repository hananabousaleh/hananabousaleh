{
 "cells": [
  {
   "cell_type": "markdown",
   "metadata": {},
   "source": [
    "# Assignment 3\n",
    "**Due:**  March 19, before class."
   ]
  },
  {
   "cell_type": "markdown",
   "metadata": {},
   "source": [
    "\n",
    "## Problem 1\n",
    "\n",
    "#### The Lorenz equations\n",
    "\n",
    "One of the most celebrated sets of differential equations in physics is the [Lorenz equations](https://en.wikipedia.org/wiki/Lorenz_system):\n",
    "$$ \\frac{dx}{dt} = \\sigma(y-x) $$ $$\\frac{dy}{dt} = rx -y -xz$$ $$\\frac{dz}{dt} = xy - bz$$ where $\\sigma$, $r$ and $b$ are constants. The names of these constants may seem arbirtrary and odd but are always used in these equations -- _for historical reasons_.\n",
    "\n",
    "Read about these equations, when and why they were introduced? What special behaviour do they show?\n",
    "\n",
    "1. Implement an explicit solution to the Lorenz equations. Always use the range from $t = 0$ to $t = 50 $ with the intial condition $(x,y,z) = (1,1,1)$, and consider three cases for $\\sigma$, $r$ and $b$ as shown in the code cell below.\n",
    "2. Make a plot of $x, y$ and $z$ as a function of time for each case for a time step size of $h=0.01$ and $h=0.0001$ for each case. \n",
    "3. Create for the high-resolution cases a 3D line plot for each case using `from mpl_toolkits.mplot3d import Axes3D`.\n"
   ]
  },
  {
   "cell_type": "code",
   "execution_count": null,
   "metadata": {
    "collapsed": true
   },
   "outputs": [],
   "source": [
    "# 1 : 'benchmark'\n",
    "case = 1\n",
    "if case == 1:\n",
    "    r = 28.0\n",
    "    s = 10.0\n",
    "    b = 8.0 / 3.0\n",
    "elif case == 2:\n",
    "    r = 38.0\n",
    "    s = 7.0\n",
    "    b = 7.0 / 3.0\n",
    "elif case == 3:\n",
    "    r = 28.0\n",
    "    s = 12.0\n",
    "    b = 2.0 / 3.0"
   ]
  },
  {
   "cell_type": "markdown",
   "metadata": {},
   "source": [
    "Suggestion for further study (not graded): Setup the same solution with `scipy.integrate.odeint`. The solution can be found [Wikipedia's Lorenz system page](https://en.wikipedia.org/wiki/Lorenz_system). Students are encouraged to first try to figure out the solution yourelf. "
   ]
  },
  {
   "cell_type": "markdown",
   "metadata": {},
   "source": [
    "## Problem 2\n",
    "1. Construct a helix in 3D with the circular component in x, y and the stretch component in z direction. In each direction the values span the range $[-1,1]$ and the helix has 5 rotations. Make a plot in 3D using `from mpl_toolkits.mplot3d import Axes3D` with the view `ax.view_init(elev=45, azim=30)`.\n",
    "2. Perform a shear transformation in the x direction that is proporitional to $1.5y$ of the helix and plot with view `ax.view_init(elev=80, azim=10)`.\n",
    "3. Perform a rotation around the y-axis by $33\\deg$."
   ]
  },
  {
   "cell_type": "markdown",
   "metadata": {},
   "source": [
    "\n",
    "## Problem 3: \n",
    "\n",
    "Given the equations for the voltage difference at each junction point for the circuit of resistors discussed in class (Part.III, unit 3):\n",
    "* Simplify and sort the set of equations presented in class for the voltages.\n",
    "* Setup coefficient matrix $A$ and RHS vector $\\vec{u}$.\n",
    "* Use your own Gaussian elimination routine created in the Lab to solve for $\\vec{v}$.\n",
    "* Use an appropriate numpy library to solve the same set of equations. "
   ]
  },
  {
   "cell_type": "code",
   "execution_count": null,
   "metadata": {},
   "outputs": [],
   "source": []
  }
 ],
 "metadata": {
  "kernelspec": {
   "display_name": "Python 3",
   "language": "python",
   "name": "python3"
  },
  "language_info": {
   "codemirror_mode": {
    "name": "ipython",
    "version": 3
   },
   "file_extension": ".py",
   "mimetype": "text/x-python",
   "name": "python",
   "nbconvert_exporter": "python",
   "pygments_lexer": "ipython3",
   "version": "3.5.2"
  }
 },
 "nbformat": 4,
 "nbformat_minor": 2
}
