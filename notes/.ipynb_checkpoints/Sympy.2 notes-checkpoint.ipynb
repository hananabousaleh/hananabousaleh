{
 "cells": [
  {
   "cell_type": "markdown",
   "metadata": {},
   "source": [
    "# Sympy 2 -- Application to Newton's method\n",
    "\n",
    "In this notebook we will focus on applying Sympy to accomplish a task. We will use it to set up Newton's method, comparing our initial point to the roots Newton's method (eventually) finds.\n",
    "\n",
    "* * * \n",
    "\n",
    "Newton's method is the technique of iteratively using the linear approximation of a function to search for roots.  Say we want to find a solution to the equation\n",
    "\n",
    "$$f(x) = 0$$\n",
    "\n",
    "where, $f$ is a real-valued function of a real variable $f : \\mathbb R \\to \\mathbb R$.\n",
    "\n",
    "Start with an initial guess $x_0 \\in \\mathbb R$. The linear approximation $L$ at $x_0$ (to $f$) is the function\n",
    "\n",
    "$$L_{x_0}(x) = f(x_0) + f'(x_0)(x-x_0).$$\n",
    "\n",
    "Rather than trying to solve $f(x)=0$ we solve $L_{x_0}(x)=0$, which gives us\n",
    "\n",
    "$$x = x_0-\\frac{f(x_0)}{f'(x_0)}.$$\n",
    "\n",
    "Newton's method is the process of replacing the initial guess $x_0$ with the solution to $L_{x_0}(x) = 0$, i.e. \n",
    "\n",
    "$$x_0 \\longmapsto x_0-\\frac{f(x_0)}{f'(x_0)}.$$\n",
    "\n",
    "The function that sends $x_0$ to $x_0 -\\frac{f(x_0)}{f'(x_0)}$ is called the **Newton iterate**, let's call this function $N_f$, i.e.\n",
    "\n",
    "$$N_f(x) = x - \\frac{f(x)}{f'(x)}.$$\n",
    "\n",
    "* * *\n",
    "\n",
    "For example, if $f(x) = x^2 - c$, then solving $f(x) = 0$ is equivalent to computing a square root of $c$.  On the other hand, the *Newton iterate* is the function\n",
    "\n",
    "$$N_f(x) = x - \\frac{x^2 - c}{2x} = \\frac{x}{2} + \\frac{c}{2x}.$$\n",
    "\n",
    "This illustrates the compromise made with Newton's method: if one does not have a convenient direct way to compute square roots, one can get a good approximation by iteratively computing $N_f$, which uses only the operations of addition, multiplication and division. \n",
    "\n",
    "* * *\n",
    "\n",
    "As an initial exercise, let's use Sympy to compute the Newton iterates of functions.  We will then make a plot of $f$, $N$ as well as applications of the Newton iterate to some initial guesses. \n"
   ]
  },
  {
   "cell_type": "code",
   "execution_count": 5,
   "metadata": {},
   "outputs": [
    {
     "name": "stdout",
     "output_type": "stream",
     "text": [
      "f\n",
      "\n",
      "Newton iterator:\n",
      "      f(x)  \n",
      "x - ────────\n",
      "    d       \n",
      "    ──(f(x))\n",
      "    dx      \n"
     ]
    }
   ],
   "source": [
    "import sympy as sp\n",
    "\n",
    "x=sp.Symbol('x')\n",
    "f = sp.Function('f')\n",
    "\n",
    "N = x-f(x)/f(x).diff(x)\n",
    "sp.pprint(f)\n",
    "print(\"\\nNewton iterator:\")\n",
    "sp.pprint(N)"
   ]
  },
  {
   "cell_type": "code",
   "execution_count": 9,
   "metadata": {},
   "outputs": [
    {
     "name": "stdout",
     "output_type": "stream",
     "text": [
      "          2\n",
      "    -c + x \n",
      "x - ───────\n",
      "      2⋅x  \n"
     ]
    }
   ],
   "source": [
    "#let's make f=x^2 - c\n",
    "c = sp.Symbol('c')\n",
    "\n",
    "#Newton iterator for square roots.\n",
    "Nsq = N.subs(f(x), x**2-c).doit() #.doit() forces sympy to do the derivative.\n",
    "sp.pprint(Nsq)"
   ]
  },
  {
   "cell_type": "code",
   "execution_count": 11,
   "metadata": {},
   "outputs": [
    {
     "name": "stdout",
     "output_type": "stream",
     "text": [
      "     2    \n",
      "    x  - 2\n",
      "x - ──────\n",
      "     2⋅x  \n",
      "1.5\n"
     ]
    }
   ],
   "source": [
    "#let's make c = 2 and try finding some square roots.\n",
    "Nsq2 = Nsq.subs(c,2) \n",
    "sp.pprint(Nsq2)\n",
    "\n",
    "#Newton iterator for callable function\n",
    "IT = sp.lambdify(x,Nsq2)\n",
    "print(IT(1))"
   ]
  },
  {
   "cell_type": "code",
   "execution_count": 12,
   "metadata": {},
   "outputs": [
    {
     "name": "stdout",
     "output_type": "stream",
     "text": [
      "Iterate i= 0   1.0\n",
      "Iterate i= 1   1.5\n",
      "Iterate i= 2   1.4166666666666667\n",
      "Iterate i= 3   1.4142156862745099\n",
      "Iterate i= 4   1.4142135623746899\n",
      "Iterate i= 5   1.4142135623730951\n",
      "Iterate i= 6   1.414213562373095\n",
      "Iterate i= 7   1.4142135623730951\n",
      "Iterate i= 8   1.414213562373095\n",
      "Iterate i= 9   1.4142135623730951\n"
     ]
    }
   ],
   "source": [
    "xi = 1.0\n",
    "for i in range(10):\n",
    "    print(\"Iterate i=\",i,\" \",xi)\n",
    "    xi = IT(xi)"
   ]
  },
  {
   "cell_type": "code",
   "execution_count": 14,
   "metadata": {},
   "outputs": [
    {
     "name": "stdout",
     "output_type": "stream",
     "text": [
      "2.0\n"
     ]
    }
   ],
   "source": [
    "print(round(xi**2, 6))"
   ]
  },
  {
   "cell_type": "markdown",
   "metadata": {},
   "source": [
    "### Next\n",
    "lets create a callable function that takes as input a function $f$ and an initial guess, and plots the outcome of Newton's Method.\n",
    "\n",
    "before we tackle this problem, lets just do it once for the above function $$x^2-c$$"
   ]
  },
  {
   "cell_type": "code",
   "execution_count": 38,
   "metadata": {},
   "outputs": [],
   "source": [
    "import matplotlib as plt\n",
    "import numpy as np\n",
    "%matplotlib nbagg"
   ]
  },
  {
   "cell_type": "code",
   "execution_count": 39,
   "metadata": {},
   "outputs": [
    {
     "ename": "AttributeError",
     "evalue": "module 'matplotlib' has no attribute 'plot'",
     "output_type": "error",
     "traceback": [
      "\u001b[0;31m---------------------------------------------------------------------------\u001b[0m",
      "\u001b[0;31mAttributeError\u001b[0m                            Traceback (most recent call last)",
      "\u001b[0;32m<ipython-input-39-7dbfbb56b22c>\u001b[0m in \u001b[0;36m<module>\u001b[0;34m()\u001b[0m\n\u001b[1;32m     11\u001b[0m \u001b[0;34m\u001b[0m\u001b[0m\n\u001b[1;32m     12\u001b[0m \u001b[0mdom\u001b[0m \u001b[0;34m=\u001b[0m \u001b[0mnp\u001b[0m\u001b[0;34m.\u001b[0m\u001b[0mlinspace\u001b[0m\u001b[0;34m(\u001b[0m\u001b[0mmin\u001b[0m\u001b[0;34m(\u001b[0m\u001b[0mx1\u001b[0m\u001b[0;34m)\u001b[0m\u001b[0;34m,\u001b[0m \u001b[0mmax\u001b[0m\u001b[0;34m(\u001b[0m\u001b[0mx1\u001b[0m\u001b[0;34m)\u001b[0m\u001b[0;34m,\u001b[0m \u001b[0;36m1000\u001b[0m\u001b[0;34m)\u001b[0m\u001b[0;34m\u001b[0m\u001b[0m\n\u001b[0;32m---> 13\u001b[0;31m \u001b[0mplt\u001b[0m\u001b[0;34m.\u001b[0m\u001b[0mplot\u001b[0m\u001b[0;34m(\u001b[0m\u001b[0mdom\u001b[0m\u001b[0;34m,\u001b[0m \u001b[0;34m[\u001b[0m\u001b[0mf\u001b[0m\u001b[0;34m(\u001b[0m\u001b[0mx\u001b[0m\u001b[0;34m)\u001b[0m \u001b[0;32mfor\u001b[0m \u001b[0mx\u001b[0m \u001b[0;32min\u001b[0m \u001b[0mdom\u001b[0m\u001b[0;34m]\u001b[0m\u001b[0;34m,\u001b[0m \u001b[0mcolor\u001b[0m\u001b[0;34m=\u001b[0m\u001b[0;34m\"green\"\u001b[0m\u001b[0;34m,\u001b[0m \u001b[0mlabel\u001b[0m\u001b[0;34m=\u001b[0m\u001b[0;34m\"$$x^2-2\"\u001b[0m\u001b[0;34m)\u001b[0m\u001b[0;34m\u001b[0m\u001b[0m\n\u001b[0m\u001b[1;32m     14\u001b[0m \u001b[0mplt\u001b[0m\u001b[0;34m.\u001b[0m\u001b[0mplot\u001b[0m\u001b[0;34m(\u001b[0m\u001b[0mx1\u001b[0m\u001b[0;34m,\u001b[0m\u001b[0my1\u001b[0m\u001b[0;34m,\u001b[0m\u001b[0mcolor\u001b[0m\u001b[0;34m=\u001b[0m\u001b[0;34m\"orange\"\u001b[0m\u001b[0;34m,\u001b[0m\u001b[0mleabel\u001b[0m\u001b[0;34m=\u001b[0m\u001b[0;34m\"Newt\"\u001b[0m\u001b[0;34m)\u001b[0m\u001b[0;34m\u001b[0m\u001b[0m\n\u001b[1;32m     15\u001b[0m \u001b[0mplt\u001b[0m\u001b[0;34m.\u001b[0m\u001b[0mshow\u001b[0m\u001b[0;34m(\u001b[0m\u001b[0;34m)\u001b[0m\u001b[0;34m\u001b[0m\u001b[0m\n",
      "\u001b[0;31mAttributeError\u001b[0m: module 'matplotlib' has no attribute 'plot'"
     ]
    }
   ],
   "source": [
    "\n",
    "\n",
    "f = sp.lambdify(x, x**2-2)\n",
    "x1 = [0.1]\n",
    "y1 = [0.0]\n",
    "for i in range(4):\n",
    "    x1.append(x1[-1])\n",
    "    y1.append(f(x1[-1]))\n",
    "    x1.append(IT(x1[-1]))\n",
    "    y1.append(0.0)\n",
    "\n",
    "dom = np.linspace(min(x1), max(x1), 1000)\n",
    "plt.plot(dom, [f(x) for x in dom], color=\"green\", label=\"$$x^2-2\")\n",
    "plt.plot(x1,y1,color=\"orange\",leabel=\"Newt\")\n",
    "plt.show()"
   ]
  },
  {
   "cell_type": "code",
   "execution_count": null,
   "metadata": {},
   "outputs": [],
   "source": []
  }
 ],
 "metadata": {
  "anaconda-cloud": {},
  "kernelspec": {
   "display_name": "Python 3",
   "language": "python",
   "name": "python3"
  },
  "language_info": {
   "codemirror_mode": {
    "name": "ipython",
    "version": 3
   },
   "file_extension": ".py",
   "mimetype": "text/x-python",
   "name": "python",
   "nbconvert_exporter": "python",
   "pygments_lexer": "ipython3",
   "version": "3.5.2"
  }
 },
 "nbformat": 4,
 "nbformat_minor": 1
}
