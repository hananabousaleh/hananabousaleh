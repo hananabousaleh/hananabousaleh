{
 "cells": [
  {
   "cell_type": "markdown",
   "metadata": {},
   "source": [
    "# Sympy - A first glance\n",
    "\n",
    "Sympy is a Python library that primarily deals with **symbolic mathematics**.  By this we mean formal algebraic expressions, such as:\n",
    "\n",
    " * Polynomials $x^3+3x-2$\n",
    " * Abstract functional expressions $\\sin(x), e^x, \\frac{\\sin x}{\\tan^2 x + 3x^2 + 1}$, etc.\n",
    " * Operations on these expressions, such as: \n",
    "   - Root finding, in **closed form** when it is possible.\n",
    "   - Differentiation, integration.\n",
    "   - Solving systems of non-linear equations in \"closed form\" i.e. going from expressions like $x^2=2$ to $x = \\pm \\sqrt{2}$. \n",
    "   - Finding **closed form** solutions to differential equations, when they exist, such as going from $y'=y$ to $y(t) = ke^t$. \n",
    "   \n",
    "Sympy is capable of much more than the above, but these are some of its most basic features."
   ]
  },
  {
   "cell_type": "markdown",
   "metadata": {},
   "source": [
    "## Before we begin -- numbers and data types in Python\n",
    "\n",
    "Simple things like numbers have multiple representations in Python.  \n",
    "\n",
    "For example, in your second quiz you wrote an algorithm that divides an integer by 2.  Let's look at various ways Python can deal with this."
   ]
  },
  {
   "cell_type": "code",
   "execution_count": 1,
   "metadata": {},
   "outputs": [
    {
     "name": "stdout",
     "output_type": "stream",
     "text": [
      "1.5\n",
      "<class 'float'>\n"
     ]
    }
   ],
   "source": [
    "print(3/2)\n",
    "print(type(3/2))"
   ]
  },
  {
   "cell_type": "markdown",
   "metadata": {},
   "source": [
    "### 3/2 in Python\n",
    "\n",
    "In Python, the **division** operation is implemented in a way that closely mimics how we use it in practice.  But there are also compromises to ensure it isn't an *expensive* computation to do in large quantities.\n",
    "\n",
    "Given two integers $m$ and $n$, Python implements $m/n$ as a **float**. **float** (short for floating-point) data types are an imprecise data type and this can lead to problems.  We will talk more about this later.   \n",
    "\n",
    "What if you want **integer division**?  By this I am referring to the <a href=\"https://en.wikipedia.org/wiki/Division_algorithm\">**division algorithm**</a>. This states that given any integer $n$, and any positive integer $d$ (the **denominator**), there are unique integers $q$ (the **quotient**) and $r$ the **remainder** so that\n",
    "\n",
    "$$ n = q\\cdot d + r \\ \\ \\ 0 \\leq r < d. $$\n",
    "\n",
    "Another way to say this is\n",
    "\n",
    "$$ \\frac{n}{d} = q + \\frac{r}{d}$$\n",
    "\n",
    "i.e. the division algorithm is a procedure to write an arbitrary fraction as a **reduced fraction**, where this means $0 \\leq \\frac{r}{d} < 1$.\n",
    "\n",
    "For example $n=3, d = 2$\n",
    "\n",
    "$$ 3 = 1 \\cdot 2 + 1 $$\n",
    "\n",
    "For $n=13, d = 3$\n",
    "\n",
    "$$ 13 = 4 \\cdot 3 + 1 $$\n",
    "\n",
    "The Python operations for the division algorithm are $//$ and $\\%$.\n"
   ]
  },
  {
   "cell_type": "code",
   "execution_count": 20,
   "metadata": {},
   "outputs": [
    {
     "name": "stdout",
     "output_type": "stream",
     "text": [
      "1.5\n",
      "1\n"
     ]
    }
   ],
   "source": [
    "print(3/2)\n",
    "print(3//2)"
   ]
  },
  {
   "cell_type": "code",
   "execution_count": 21,
   "metadata": {},
   "outputs": [
    {
     "name": "stdout",
     "output_type": "stream",
     "text": [
      "1\n"
     ]
    }
   ],
   "source": [
    "print(3%2)"
   ]
  },
  {
   "cell_type": "markdown",
   "metadata": {},
   "source": [
    "### isinstance and type\n",
    "\n",
    "Often times the simplest way to figure out how Python interprets your expression is via the **type** and **isinstance** commands. \n",
    "\n",
    "The **type** gives you the name of the underlying Python data type of an object."
   ]
  },
  {
   "cell_type": "code",
   "execution_count": 11,
   "metadata": {},
   "outputs": [
    {
     "name": "stdout",
     "output_type": "stream",
     "text": [
      "<class 'int'>\n"
     ]
    }
   ],
   "source": [
    "print(type(1))"
   ]
  },
  {
   "cell_type": "markdown",
   "metadata": {},
   "source": [
    "**isinstance** allows you to check if an object is of a specific type. This is a useful command to protect a function against mis-use."
   ]
  },
  {
   "cell_type": "code",
   "execution_count": 12,
   "metadata": {},
   "outputs": [
    {
     "name": "stdout",
     "output_type": "stream",
     "text": [
      "True\n",
      "False\n"
     ]
    }
   ],
   "source": [
    "print(isinstance(1,int))\n",
    "print(isinstance(1.0, int))"
   ]
  },
  {
   "cell_type": "markdown",
   "metadata": {},
   "source": [
    "## Changing gears -- basic Sympy examples"
   ]
  },
  {
   "cell_type": "code",
   "execution_count": 4,
   "metadata": {},
   "outputs": [
    {
     "name": "stdout",
     "output_type": "stream",
     "text": [
      "x\n",
      "x**2\n",
      " 2\n",
      "x \n"
     ]
    }
   ],
   "source": [
    "import sympy as sp\n",
    "x = sp.Symbol('x') # Sympy symbol 'x', in python we also call it x.\n",
    "\n",
    "print(x)\n",
    "print(x**2)\n",
    "sp.pprint(x**2) #pretty print"
   ]
  },
  {
   "cell_type": "code",
   "execution_count": 6,
   "metadata": {},
   "outputs": [
    {
     "name": "stdout",
     "output_type": "stream",
     "text": [
      " 3         \n",
      "x  + sin(x)\n",
      "<class 'sympy.core.add.Add'>\n"
     ]
    }
   ],
   "source": [
    "## Sympy expressions are not immediately addressable as mathematical expressions\n",
    "f= x**3 +sp.sin(x)\n",
    "sp.pprint(f)\n",
    "print(type(f))"
   ]
  },
  {
   "cell_type": "markdown",
   "metadata": {},
   "source": [
    "## Sympy types\n",
    "\n",
    "Sympy types at first appear a little confusing.  We will discuss how to interpret them next week.  Even *the same* mathematical object can have different sympy types!"
   ]
  },
  {
   "cell_type": "code",
   "execution_count": 15,
   "metadata": {},
   "outputs": [
    {
     "name": "stdout",
     "output_type": "stream",
     "text": [
      "<class 'sympy.core.symbol.Symbol'>\n",
      "<class 'sympy.core.mul.Mul'>\n",
      "<class 'sympy.core.add.Add'> <class 'sympy.core.power.Pow'>\n"
     ]
    }
   ],
   "source": [
    "print(type(x))\n",
    "print(type(sp.sin(x)*x))\n",
    "print(type(x**2+2*x+1), type((x+1)**2))"
   ]
  },
  {
   "cell_type": "code",
   "execution_count": 16,
   "metadata": {},
   "outputs": [
    {
     "name": "stdout",
     "output_type": "stream",
     "text": [
      "False\n"
     ]
    }
   ],
   "source": [
    "#same mathematical objects, but sympy does not recognize them as the same thing.\n",
    "print(x**2+2*x+1 == (x+1)**2) #returns false"
   ]
  },
  {
   "cell_type": "code",
   "execution_count": 17,
   "metadata": {},
   "outputs": [
    {
     "name": "stdout",
     "output_type": "stream",
     "text": [
      "√2\n",
      "──\n",
      "2 \n",
      "√2\n",
      "──\n",
      "2 \n",
      "True\n"
     ]
    }
   ],
   "source": [
    "sp.pprint(sp.sqrt(2)/2)\n",
    "sp.pprint(1/sp.sqrt(2))\n",
    "print(sp.sqrt(2)/2 == 1/sp.sqrt(2)) #see, this time it's true. why? who knows."
   ]
  },
  {
   "cell_type": "code",
   "execution_count": 18,
   "metadata": {},
   "outputs": [
    {
     "name": "stdout",
     "output_type": "stream",
     "text": [
      "  1   \n",
      "──────\n",
      "1 + √2\n",
      "-1 + √2\n",
      "False\n"
     ]
    }
   ],
   "source": [
    "#following two expressions are equal\n",
    "sp.pprint(1/(1+sp.sqrt(2)))\n",
    "sp.pprint(-1+sp.sqrt(2)) \n",
    "#lets ask sympy\n",
    "print(1/(1+sp.sqrt(2)) == -1+sp.sqrt(2)) #false again."
   ]
  },
  {
   "cell_type": "markdown",
   "metadata": {},
   "source": [
    "Similarly, Sympy's notion of equality is perhaps not what one might expect.  We will also discuss this in more detail next week."
   ]
  },
  {
   "cell_type": "code",
   "execution_count": null,
   "metadata": {},
   "outputs": [],
   "source": []
  },
  {
   "cell_type": "code",
   "execution_count": null,
   "metadata": {},
   "outputs": [],
   "source": []
  },
  {
   "cell_type": "markdown",
   "metadata": {},
   "source": [
    "Sympy algebraic expressions like $\\sin(x)+x^2$ are not callable functions, so one might imagine **what is the point of using Sympy** if you can't use algebraic expressions for their purpose?\n",
    "\n",
    "Sympy allows us to convert their Sympy algebraic expressions into callable functions, with the lambdify command."
   ]
  },
  {
   "cell_type": "code",
   "execution_count": 38,
   "metadata": {},
   "outputs": [
    {
     "name": "stdout",
     "output_type": "stream",
     "text": [
      " 2         \n",
      "x  + sin(x)\n"
     ]
    }
   ],
   "source": [
    "f=sp.sin(x)+x**2 #want to convert this to a callable function\n",
    "sp.pprint(f)"
   ]
  },
  {
   "cell_type": "code",
   "execution_count": 39,
   "metadata": {},
   "outputs": [
    {
     "data": {
      "text/plain": [
       "1.8414709848078965"
      ]
     },
     "execution_count": 39,
     "metadata": {},
     "output_type": "execute_result"
    }
   ],
   "source": [
    "#turns sympy expressions into a callable function via 'lambdify'\n",
    "F=sp.lambdify(x,f) #syntax: x = variable, f = function.\n",
    "                    #x does not need to be a variable inside the function. can be any variable.\n",
    "F(1.0)"
   ]
  },
  {
   "cell_type": "markdown",
   "metadata": {},
   "source": [
    "### Advantage of Sympy algebraic expressions\n",
    "\n",
    "Sympy allows for many basic operations on algebraic expressions, like differentiation and integration."
   ]
  },
  {
   "cell_type": "code",
   "execution_count": 40,
   "metadata": {},
   "outputs": [
    {
     "name": "stdout",
     "output_type": "stream",
     "text": [
      "2⋅x + cos(x)\n"
     ]
    }
   ],
   "source": [
    "#'diff' = differentiate, function from sympy\n",
    "fp = sp.diff(f,x)\n",
    "sp.pprint(fp)"
   ]
  },
  {
   "cell_type": "code",
   "execution_count": 41,
   "metadata": {},
   "outputs": [
    {
     "name": "stdout",
     "output_type": "stream",
     "text": [
      " 3         \n",
      "x          \n",
      "── - cos(x)\n",
      "3          \n"
     ]
    }
   ],
   "source": [
    "#integrate function from sympy\n",
    "fi = sp.integrate(f,x)\n",
    "sp.pprint(fi)"
   ]
  },
  {
   "cell_type": "code",
   "execution_count": 42,
   "metadata": {},
   "outputs": [
    {
     "name": "stdout",
     "output_type": "stream",
     "text": [
      "   ⎛ 2⎞\n",
      "sin⎝x ⎠\n",
      "                ⎛√2⋅x⎞       \n",
      "3⋅√2⋅√π⋅fresnels⎜────⎟⋅Γ(3/4)\n",
      "                ⎝ √π ⎠       \n",
      "─────────────────────────────\n",
      "           8⋅Γ(7/4)          \n"
     ]
    }
   ],
   "source": [
    "f = sp.sin(x**2)\n",
    "F = sp.integrate(f,x)\n",
    "sp.pprint(f)\n",
    "sp.pprint(F) #weird ass function"
   ]
  },
  {
   "cell_type": "code",
   "execution_count": 43,
   "metadata": {},
   "outputs": [
    {
     "name": "stdout",
     "output_type": "stream",
     "text": [
      "3*sqrt(2)*sqrt(pi)*fresnels(sqrt(2)*x/sqrt(pi))*gamma(3/4)/(8*gamma(7/4))\n"
     ]
    }
   ],
   "source": [
    "print(F) #can be useful if you dont know what a symbol in pprint is."
   ]
  },
  {
   "cell_type": "code",
   "execution_count": 57,
   "metadata": {},
   "outputs": [],
   "source": [
    "#sp.gamma?"
   ]
  },
  {
   "cell_type": "code",
   "execution_count": 58,
   "metadata": {},
   "outputs": [],
   "source": [
    "#latec stuff??\n",
    "#\\Gamma(x) := \\int^{\\infty}_{0} t^{x-1} e^{t} \\mathrm{d}t\n",
    "\n",
    "\n",
    "\n",
    "\n"
   ]
  },
  {
   "cell_type": "code",
   "execution_count": 59,
   "metadata": {},
   "outputs": [
    {
     "data": {
      "text/plain": [
       "mpf('0.00052358954761221065')"
      ]
     },
     "execution_count": 59,
     "metadata": {},
     "output_type": "execute_result"
    }
   ],
   "source": [
    "## let's plot some of these functions\n",
    "F = sp.lambdify(x, sp.fresnels(x), \"mpmath\") #mpmath to load fresnels ? i guess??\n",
    "F(0.1)\n",
    "\n",
    "\n"
   ]
  },
  {
   "cell_type": "code",
   "execution_count": 60,
   "metadata": {},
   "outputs": [
    {
     "data": {
      "image/png": "[encoded data removed]",
      "text/plain": [
       "<matplotlib.figure.Figure at 0x7fd8c8531550>"
      ]
     },
     "metadata": {},
     "output_type": "display_data"
    }
   ],
   "source": [
    "## mpf is a special kind of floating point number in python coming from the \"mpmath\" library\n",
    "\n",
    "#when you lambdify a sympy expression, it searches a database of math libraries for \n",
    "#callable implementations, in this case if found it in mpmath.\n",
    "\n",
    "import mpmath as mp\n",
    "import matplotlib.pyplot as plt\n",
    "import numpy as np\n",
    "%matplotlib inline\n",
    "\n",
    "dom = np.linspace(-8.0, 8.0, 1000)\n",
    "plt.plot(dom, [F(x) for x in dom], color = \"black\")\n",
    "plt.show()"
   ]
  },
  {
   "cell_type": "code",
   "execution_count": 64,
   "metadata": {},
   "outputs": [
    {
     "name": "stdout",
     "output_type": "stream",
     "text": [
      " ⎛   2⎞\n",
      " ⎜ -x ⎟\n",
      " ⎝ℯ   ⎠\n",
      "ℯ      \n",
      "⌠           \n",
      "⎮  ⎛   2⎞   \n",
      "⎮  ⎜ -x ⎟   \n",
      "⎮  ⎝ℯ   ⎠   \n",
      "⎮ ℯ       dx\n",
      "⌡           \n"
     ]
    }
   ],
   "source": [
    "f = sp.exp(sp.exp(-x**2))\n",
    "sp.pprint(f)\n",
    "F = sp.integrate(f,x)\n",
    "sp.pprint(F) #amazing. tysm"
   ]
  },
  {
   "cell_type": "markdown",
   "metadata": {},
   "source": [
    "# There's an old theorem of Liouville that says if a \"classical\" or \"elementary\" function has an \"elementary\" antiderivative, then if has to have a fairly special form. The modern implementation of this is called the \"Risch Algorithm\". \n",
    "Two reasons wht Sympy won't give you a closed form for an antiderivative.\n",
    "\n",
    "1) there might not be a closed form.\n",
    "\n",
    "2) Risch Algorithm is both \"slow\" and memory intensive. your computer might run out of memory or the computation will take longer than your lifetime.\n"
   ]
  },
  {
   "cell_type": "markdown",
   "metadata": {},
   "source": [
    "## Asking sympy to solve equations\n",
    "\n",
    "Sympy has some fairly sophisticated algorithms to solve polynomial equations. It uses these algorithms to build tools to solve (symbolically) a wide array of equations, even ones that are not polynomial. \n",
    "\n",
    "Sympy can:\n",
    "\n",
    " * Factor polynomials.\n",
    " * Find roots of polynomials, symbolically as well as numerically. \n",
    " * Solve (symbolically as well as numerically) simultaneous polynomial equations.\n",
    " * Solve simultaneous equations that are not polynomial\n",
    "    "
   ]
  },
  {
   "cell_type": "code",
   "execution_count": 68,
   "metadata": {},
   "outputs": [
    {
     "name": "stdout",
     "output_type": "stream",
     "text": [
      "[-√2, √2]\n",
      "[-√2⋅ⅈ, √2⋅ⅈ]\n",
      "ⅈ\n"
     ]
    }
   ],
   "source": [
    "p = x**2 - 2\n",
    "sp.pprint(sp.solve(p,x)) # 'solve' function to find roots\n",
    "\n",
    "p = x**2 + 2\n",
    "sp.pprint(sp.solve(p,x)) # works for complex solutions as well.\n",
    "sp.pprint(sp.I)"
   ]
  },
  {
   "cell_type": "code",
   "execution_count": 72,
   "metadata": {},
   "outputs": [
    {
     "name": "stdout",
     "output_type": "stream",
     "text": [
      "   2          \n",
      "a⋅x  + b⋅x + c\n",
      "\n",
      "\n",
      "⎡        _____________   ⎛       _____________⎞ ⎤\n",
      "⎢       ╱           2    ⎜      ╱           2 ⎟ ⎥\n",
      "⎢-b + ╲╱  -4⋅a⋅c + b    -⎝b + ╲╱  -4⋅a⋅c + b  ⎠ ⎥\n",
      "⎢─────────────────────, ────────────────────────⎥\n",
      "⎣         2⋅a                     2⋅a           ⎦\n"
     ]
    }
   ],
   "source": [
    "a, b, c = sp.symbols('a b c') #save constants in Sympy\n",
    "p = a*x**2 + b*x +c\n",
    "sp.pprint(p)\n",
    "print(\"\\n\")\n",
    "sp.pprint(sp.solve(p,x))"
   ]
  },
  {
   "cell_type": "code",
   "execution_count": 73,
   "metadata": {},
   "outputs": [],
   "source": [
    "p = x**3 + x**2 -x-1"
   ]
  },
  {
   "cell_type": "code",
   "execution_count": 74,
   "metadata": {},
   "outputs": [
    {
     "name": "stdout",
     "output_type": "stream",
     "text": [
      " 3    2        \n",
      "x  + x  - x - 1\n"
     ]
    }
   ],
   "source": [
    "sp.pprint(p)"
   ]
  },
  {
   "cell_type": "code",
   "execution_count": 77,
   "metadata": {},
   "outputs": [
    {
     "name": "stdout",
     "output_type": "stream",
     "text": [
      "Extracted coefficients:  [1, 1, -1, -1]\n"
     ]
    }
   ],
   "source": [
    "P = sp.Poly(p,x).coeffs() #asking Sympy to think of p as a polynomial in terms of x, and return the coefficients.\n",
    "print(\"Extracted coefficients: \", P)"
   ]
  },
  {
   "cell_type": "code",
   "execution_count": 82,
   "metadata": {},
   "outputs": [
    {
     "name": "stdout",
     "output_type": "stream",
     "text": [
      "[ 1.         -1.00000001 -0.99999999]\n",
      "[1.0, (-1.0 - 1.25049450131375e-10j), (-1.0 + 1.2799322008877e-10j)]\n"
     ]
    }
   ],
   "source": [
    "print(np.roots(P))          #numpy has a roundoff error\n",
    "\n",
    "# we want numpy to \"work a little harder\" to see if these are actually round off errors or nahh\n",
    "#use mpmath\n",
    "mp.mp.pretty = True         #pretty printing\n",
    "print(str(mp.polyroots(P))) #still fucking weird. has a roundoff in the imaginary part. amazing."
   ]
  },
  {
   "cell_type": "code",
   "execution_count": 79,
   "metadata": {},
   "outputs": [
    {
     "name": "stdout",
     "output_type": "stream",
     "text": [
      "               2\n",
      "(x - 1)⋅(x + 1) \n"
     ]
    },
    {
     "data": {
      "text/plain": [
       "x**3 + x**2 - x - 1"
      ]
     },
     "execution_count": 79,
     "metadata": {},
     "output_type": "execute_result"
    }
   ],
   "source": [
    "q = (x+1)**2 * (x-1)\n",
    "sp.pprint(q)\n",
    "sp.expand(q) #asking Sympy to expand q"
   ]
  },
  {
   "cell_type": "code",
   "execution_count": 86,
   "metadata": {},
   "outputs": [],
   "source": [
    "#Let's try solving systems of algebraic equations."
   ]
  },
  {
   "cell_type": "code",
   "execution_count": 87,
   "metadata": {},
   "outputs": [
    {
     "name": "stdout",
     "output_type": "stream",
     "text": [
      "<class 'list'>\n",
      "4\n",
      "⎧   ⎛       _________⎞   _________ ⎛    _________    ⎞        _________⎫\n",
      "⎨x: ⎝-2 - ╲╱ -√3 + 2 ⎠⋅╲╱ -√3 + 2 ⋅⎝- ╲╱ -√3 + 2  + 2⎠, y: -╲╱ -√3 + 2 ⎬\n",
      "⎩                                                                      ⎭\n",
      "\n",
      "\n",
      "⎧    ⎛       _________⎞   _________ ⎛  _________    ⎞       _________⎫\n",
      "⎨x: -⎝-2 + ╲╱ -√3 + 2 ⎠⋅╲╱ -√3 + 2 ⋅⎝╲╱ -√3 + 2  + 2⎠, y: ╲╱ -√3 + 2 ⎬\n",
      "⎩                                                                    ⎭\n",
      "\n",
      "\n",
      "⎧   ⎛       ________⎞   ________ ⎛    ________    ⎞        ________⎫\n",
      "⎨x: ⎝-2 - ╲╱ √3 + 2 ⎠⋅╲╱ √3 + 2 ⋅⎝- ╲╱ √3 + 2  + 2⎠, y: -╲╱ √3 + 2 ⎬\n",
      "⎩                                                                  ⎭\n",
      "\n",
      "\n",
      "⎧    ⎛       ________⎞   ________ ⎛  ________    ⎞       ________⎫\n",
      "⎨x: -⎝-2 + ╲╱ √3 + 2 ⎠⋅╲╱ √3 + 2 ⋅⎝╲╱ √3 + 2  + 2⎠, y: ╲╱ √3 + 2 ⎬\n",
      "⎩                                                                ⎭\n",
      "\n",
      "\n"
     ]
    }
   ],
   "source": [
    "y = sp.Symbol(\"y\")\n",
    "sol = sp.solve([x**2+y**2-4, x*y-1])\n",
    "print(type(sol))\n",
    "print(len(sol))\n",
    "for S in sol:\n",
    "    sp.pprint(S)\n",
    "    print(\"\\n\")"
   ]
  },
  {
   "cell_type": "code",
   "execution_count": 88,
   "metadata": {},
   "outputs": [
    {
     "name": "stdout",
     "output_type": "stream",
     "text": [
      "<class 'dict'>\n"
     ]
    }
   ],
   "source": [
    "print(type(sol[0]))"
   ]
  },
  {
   "cell_type": "code",
   "execution_count": 91,
   "metadata": {},
   "outputs": [
    {
     "name": "stdout",
     "output_type": "stream",
     "text": [
      "x coord of solution 0: -1.931851653 \n",
      "\n",
      "y coord of solution 0: -0.5176380902\n"
     ]
    }
   ],
   "source": [
    "print(\"x coord of solution 0: \"+str(sol[0][x].evalf(10))+\" \"+\"\\n\")\n",
    "print(\"y coord of solution 0: \"+str(sol[0][y].evalf(10)))"
   ]
  },
  {
   "cell_type": "code",
   "execution_count": 92,
   "metadata": {},
   "outputs": [
    {
     "data": {
      "text/plain": [
       "[<matplotlib.lines.Line2D at 0x7fd8c851af98>]"
      ]
     },
     "execution_count": 92,
     "metadata": {},
     "output_type": "execute_result"
    },
    {
     "data": {
      "image/png": "[encoded data removed]",
      "text/plain": [
       "<matplotlib.figure.Figure at 0x7fd8c84cb4a8>"
      ]
     },
     "metadata": {},
     "output_type": "display_data"
    }
   ],
   "source": [
    "fig, ax = plt.subplots(figsize = (10,10))\n",
    "circle = plt.Circle( (0,0), 2, color = 'r', fill = False)\n",
    "x1 = np.linspace(0.2, 4)\n",
    "y1 = x1**(-1)\n",
    "ax.plot(x1, y1, '-')\n",
    "\n",
    "x2 = np.linspace(-4, -0.2)\n",
    "y2 = x2**(-1)\n",
    "ax.plot(x2, y2, '-')\n",
    " ####INCOMPLETE PLOT!!!!!"
   ]
  },
  {
   "cell_type": "code",
   "execution_count": null,
   "metadata": {
    "collapsed": true
   },
   "outputs": [],
   "source": []
  }
 ],
 "metadata": {
  "anaconda-cloud": {},
  "kernelspec": {
   "display_name": "Python 3",
   "language": "python",
   "name": "python3"
  },
  "language_info": {
   "codemirror_mode": {
    "name": "ipython",
    "version": 3
   },
   "file_extension": ".py",
   "mimetype": "text/x-python",
   "name": "python",
   "nbconvert_exporter": "python",
   "pygments_lexer": "ipython3",
   "version": "3.5.2"
  }
 },
 "nbformat": 4,
 "nbformat_minor": 1
}
