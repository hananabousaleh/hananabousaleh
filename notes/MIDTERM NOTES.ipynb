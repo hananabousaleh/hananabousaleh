{
 "cells": [
  {
   "cell_type": "code",
   "execution_count": null,
   "metadata": {},
   "outputs": [],
   "source": [
    "#assignment 1, precision question\n",
    "\n",
    "tolerance = 1.0e-3\n",
    "precision = 1.0\n",
    "n=3\n",
    "while precision > tolerance:\n",
    "    precision = np.abs(np.pi-sym_gauss_int_sqr(xb, n=n)) / np.pi\n",
    "    n += 1"
   ]
  },
  {
   "cell_type": "markdown",
   "metadata": {},
   "source": [
    "# 1. UNIX command line stuff and Shell scripts"
   ]
  },
  {
   "cell_type": "markdown",
   "metadata": {},
   "source": [
    "###  FILE SYSTEM \n",
    "```\n",
    "* cp - copy.\n",
    "    works for files and directories\n",
    "    cp <file u want to copy> <new name>\n",
    "    note that the destination could be a location or a new name(if file)\n",
    "\n",
    "* mv - move\n",
    "    works for files and directories\n",
    "    mv <file u want to copy> <new location>\n",
    "\n",
    "* rmdir - remove directory<br>\n",
    "    works for directories. directories need to be empty if not adding any extra options. else,\n",
    "        * -i - interactive. will ask if you are sure.\n",
    "        * -rf - recursive, force. will delete directory, and all its files forcibly without checking each file.\n",
    "        * -v - verbose. will explain whats hip hop happening at each step.\n",
    "    rmdir <options> <directory name>\n",
    "\n",
    "* mkdir - make directory\n",
    "    self explanatory \n",
    "    mkdir <new directory name>\n",
    "```\n",
    "### FILE MANIPULATION\n",
    "```\n",
    "* rm - remove\n",
    "    works for FILES only.\n",
    "    rm <file name>\n",
    "\n",
    "* cat - catenate\n",
    "    3 functions: displays a text file, copies a text file to another, or appends text to another file.\n",
    "    DISPLAY text file:\n",
    "        cat <text file 1> <text file 2>, etc.\n",
    "    COPY text file to another:\n",
    "        cat <source text file 1> <source text file 2> > <destination text file>\n",
    "        note that if destination text file does not exist, it will be created.\n",
    "    APPEND text file to end of another:\n",
    "        cat <course text file 1> <source text file 2> >> <destination text file>\n",
    "    options for cat command:\n",
    "        * -A - show all.\n",
    "        * -b - number non empty output lines. overrides -n.\n",
    "        * -n - number all output lines\n",
    "\n",
    "* touch - used to creat empty files.\n",
    "    touch <new file name>\n",
    "\n",
    "* grep - used to print lines which match a specified pattern.\n",
    "    grep <option> <pattern> <file name>\n",
    "    options:\n",
    "        * -i - ignore case. will find all cases, regardless of upper or lower case.\n",
    "        * -v - invert case. will find all cases that do NOT match the pattern.\n",
    "        * -x - only cases that match the whole line.\n",
    "        * -c - count. will print the count of matching lines instead of the lines themselves.\n",
    "        * --color - will highlight the matched patterns.\n",
    "        * -n - line number. will preface each matched line with the line number in the file.\n",
    "\n",
    "* wc - word count.\n",
    "    wc <option> <file name>\n",
    "    options:\n",
    "        * -l - line counts.\n",
    "        * -m - character counts.\n",
    "        * -w - word counts.\n",
    "    if you use wc without any options, it will output 3 numbers followed by the file name.\n",
    "        [lines] [words] [characters] [file name]\n",
    "\n",
    "* sed - stream editor. allows you to transform and filter text.\n",
    "    sed <option> <pattern> <file name>\n",
    "    most useful command:\n",
    "    sed s/\"<pattern to be found>\"/\"<replacement pattern>\"/g <filename>\n",
    "                                                                        ww.computerhope.com/unix/used.htm\n",
    "\n",
    "* VI editor.\n",
    "    vi <file name>\n",
    "    to write: i\n",
    "    to scroll: esc\n",
    "    to quit: :wq\n",
    "```\n",
    "\n",
    "### SHELL SCRIPTS\n",
    "```\n",
    "  You can combine a sequence of shell commands into a file and use as a shell script. You have to make the file with the script executable (`chmod u+x file_name.sh`). See file [`example.sh`](../examples/example.sh). You can execute a shell script by just typing the name of the shell script file and hit Return:\n",
    "\n",
    "./example.sh\n",
    "```\n"
   ]
  },
  {
   "cell_type": "code",
   "execution_count": null,
   "metadata": {},
   "outputs": [],
   "source": [
    "#plotting - different types of plots (notes 5) plus matplotlib stuff (part 2)\n",
    "# derivatives and differential equations\n",
    "# sympy\n",
    "#labs"
   ]
  },
  {
   "cell_type": "markdown",
   "metadata": {},
   "source": [
    "# 2. Plotting"
   ]
  },
  {
   "cell_type": "code",
   "execution_count": null,
   "metadata": {},
   "outputs": [],
   "source": []
  }
 ],
 "metadata": {
  "kernelspec": {
   "display_name": "Python 3",
   "language": "python",
   "name": "python3"
  },
  "language_info": {
   "codemirror_mode": {
    "name": "ipython",
    "version": 3
   },
   "file_extension": ".py",
   "mimetype": "text/x-python",
   "name": "python",
   "nbconvert_exporter": "python",
   "pygments_lexer": "ipython3",
   "version": "3.5.2"
  }
 },
 "nbformat": 4,
 "nbformat_minor": 2
}
