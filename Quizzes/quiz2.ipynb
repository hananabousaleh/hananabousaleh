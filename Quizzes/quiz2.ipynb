{
 "cells": [
  {
   "cell_type": "markdown",
   "metadata": {},
   "source": [
    "# Quiz 2 - Monday January 29th\n"
   ]
  },
  {
   "cell_type": "markdown",
   "metadata": {},
   "source": [
    "**Part 1**\n",
    "\n",
    "Define a Python function $f(n)$ which takes as an argument an integer $n$, and returns an integer. \n",
    "\n",
    "The output of $f$ is required to be half $n$ if $n$ is even.  If $n$ is odd, define $f$ to be $3n+1$, i.e.\n",
    "$$ f(n) = \\left\\{ \\matrix{n/2 & if \\ n \\ even \\cr 3n+1 & if \\ n \\ odd} \\right.$$\n",
    "\n",
    "On one line, print $\"f(2) \\ \\  f(3) \\ \\  f(4) \\ \\  f(5)\"$ where you replace $f(n)$ with the actual output of your function."
   ]
  },
  {
   "cell_type": "code",
   "execution_count": null,
   "metadata": {
    "collapsed": false
   },
   "outputs": [],
   "source": [
    "## Part 1 code.\n",
    "\n",
    "## Define f here\n",
    "\n",
    "    \n",
    "## a few tests to ensure you have implemented f correctly:\n",
    "## check by hand to ensure your code is not making mistakes!\n",
    "\n",
    "print(f(2), f(3), f(4), f(5))"
   ]
  },
  {
   "cell_type": "markdown",
   "metadata": {},
   "source": [
    "**Part 2**\n",
    "\n",
    "A conjecture states that if you start off with any positive integer $n$\n",
    "\n",
    "$$ n \\in \\{ 1, 2, 3, 4, \\cdots \\} $$\n",
    "\n",
    "and apply $f$ recursively, then *eventually* you will produce the integer $1$. \n",
    "\n",
    "*A recursive application of f* means we produce a sequence of numbers starting with $n$, i.e.  $s_0 = n$, \n",
    "$s_1 = f(n)$, $s_2 = f(f(n))$.  In general, \n",
    "\n",
    "$$s_{k+1} = f(s_k) \\ \\ \\ if \\ \\ \\  k \\geq 0 \\ \\ \\ and \\ \\ \\ s_0 = n$$\n",
    "\n",
    "\n",
    "The conjecture is that, regardless of what *n* is, $s_k = 1$ for some $k$ that is perhaps very large. \n",
    "\n",
    "Write a script that *tests* this conjecture for the integers\n",
    "$$n = 2,3,4,5,\\cdots, 19, 20.$$\n",
    "\n",
    "Specifically, for each integer $n$ between $2$ and $20$ print out a line that indicates the entire sequence:\n",
    "\n",
    "$$n = s_0 \\to s_1 \\to s_2 \\to s_3 \\to \\cdots \\to s_{k-1} \\to s_k = 1$$\n",
    "Print out the sequence in the form $s_0, s_1, s_2, \\cdots, s_k$, thus the output for $n=5$ would be the line\n",
    "$$ 5 \\ 16 \\ 8 \\ 4 \\ 2 \\ 1$$\n",
    "Separate the numbers with a single space."
   ]
  },
  {
   "cell_type": "code",
   "execution_count": null,
   "metadata": {
    "collapsed": false
   },
   "outputs": [],
   "source": [
    "## Part 2 code\n"
   ]
  },
  {
   "cell_type": "code",
   "execution_count": null,
   "metadata": {
    "collapsed": false
   },
   "outputs": [],
   "source": []
  },
  {
   "cell_type": "markdown",
   "metadata": {},
   "source": [
    "**Part 3**\n",
    "\n",
    "Create a plot of $n$ vs. $k$ that summarizes *Part 2*.  i.e. for each $n$, you either discovered a $k$ or you did not, such that $s_k = 1$.  Plot the points $(n, k)$ where $s_k=1$, for each $n=2,3,\\cdots, 20$. \n",
    "\n",
    "Do a second plot for $n=2,3,\\cdots,1000$, if you can. \n"
   ]
  },
  {
   "cell_type": "code",
   "execution_count": null,
   "metadata": {
    "collapsed": false
   },
   "outputs": [],
   "source": [
    "## Part 3 code"
   ]
  },
  {
   "cell_type": "code",
   "execution_count": null,
   "metadata": {
    "collapsed": false
   },
   "outputs": [],
   "source": []
  },
  {
   "cell_type": "code",
   "execution_count": null,
   "metadata": {
    "collapsed": true
   },
   "outputs": [],
   "source": []
  }
 ],
 "metadata": {
  "anaconda-cloud": {},
  "kernelspec": {
   "display_name": "Python [conda root]",
   "language": "python",
   "name": "conda-root-py"
  },
  "language_info": {
   "codemirror_mode": {
    "name": "ipython",
    "version": 3
   },
   "file_extension": ".py",
   "mimetype": "text/x-python",
   "name": "python",
   "nbconvert_exporter": "python",
   "pygments_lexer": "ipython3",
   "version": "3.5.2"
  }
 },
 "nbformat": 4,
 "nbformat_minor": 1
}
