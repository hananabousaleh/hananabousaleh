{
 "cells": [
  {
   "cell_type": "markdown",
   "metadata": {},
   "source": [
    "# Quiz 1\n",
    "January 15, 2018\n",
    "\n",
    "* Beginning of exam: 10:10am\n",
    "* End of exam: 10:40am"
   ]
  },
  {
   "cell_type": "markdown",
   "metadata": {},
   "source": [
    "## Part I\n",
    "1. Update the GitHub course notes repo in your syzygy session. It contains a new directory `Quizzes_Exams` with the `quiz1.ipynb` notebook.\n",
    "2. Use the terminal to\n",
    "    * Create a new directory in your own `mp248` repository directory called `Quizzes`.\n",
    "    * Copy the `quiz1.ipynb` notebook from the course repository to the `Quizzes` directory in your own repository. \n",
    "3. Add/commit the `Quizzes` directory and push to the remote, check on the Bitbucket server that the new dir is avaialble there.\n",
    "\n",
    "Now continue with the quiz and `add/commit/push` frequently so that your latest results are always on the remote. Perform all tasks in the `Quizzes` directory in your own repository, and `add/commmit` files there."
   ]
  },
  {
   "cell_type": "markdown",
   "metadata": {},
   "source": [
    "## Part II\n",
    "\n",
    "1. Write a shell script called `change_file.sh` that does the following:\n",
    "    * copy this notebook file `quiz1.ipynb` to another file called `ttt.ipynb`\n",
    "    * print out how many lines contain the string `mp248` in the file `ttt.ipynb`.\n",
    "    * replace all occurences of the string `mp248` with the string `repo_abc` in the file `ttt.ipynb`.\n",
    "2. Execute your shell script (remember you will have to change the permissions using the `chmod` command, and you execute the shell script by just typing the name and hitting _Return_)\n",
    "3. Commit file `ttt.ipynb` and push back to repository. "
   ]
  },
  {
   "cell_type": "markdown",
   "metadata": {},
   "source": [
    "## Part III \n",
    "**bonus part, not required, optional, not part of grade**\n",
    "\n",
    "Write a shell script called `names.sh` that\n",
    "1. creates a variable called `file_names` that contains a list of all files in  the `examples` directory of the course repository, sorted by file size, largest first; print that varibale\n",
    "2. create from this variable a new variable called `second_largest_file` ; print that varibale\n",
    "3. create a variable called `part_string` that contains the $3^{rd}$ to $8^{th}$ character in the variable; print that varibale\n",
    "4. execute the script and redirect the output to the file `quiz1.partIII.out`\n"
   ]
  },
  {
   "cell_type": "markdown",
   "metadata": {},
   "source": [
    "## Grading script tests \n",
    "\n",
    "The automatic grading script will test for the following:\n",
    "1. Presence of `Quizzes` directory in your repository, with  `quiz1.ipynb` notebook in it.\n",
    "2. Correct files present in `Quizzes` directory.\n",
    "3. Script `change_file.sh` produces correct output.\n",
    "1. Correct  number of lines with string `repo_abc` in file `ttt.ipynb`. "
   ]
  }
 ],
 "metadata": {
  "anaconda-cloud": {},
  "kernelspec": {
   "display_name": "Python 3",
   "language": "python",
   "name": "python3"
  },
  "language_info": {
   "codemirror_mode": {
    "name": "ipython",
    "version": 3
   },
   "file_extension": ".py",
   "mimetype": "text/x-python",
   "name": "python",
   "nbconvert_exporter": "python",
   "pygments_lexer": "ipython3",
   "version": "3.5.2"
  }
 },
 "nbformat": 4,
 "nbformat_minor": 2
}
