{
 "cells": [
  {
   "cell_type": "markdown",
   "metadata": {},
   "source": [
    "# Assignment 2 - Due Friday February 23rd, at 11:59pm\n",
    "\n",
    "Your completed assignment should be saved in your Bitbucket mp248 repository in the file **Assignment.2/Assignment.2.ipynb**.   \n",
    "\n",
    "**Do your work in a copy of this i-python notebook.**\n",
    "\n",
    "**Ensure you label your code blocks** eg: (1)(a), (2)(b), (2)(b)continued, etc.\n",
    "\n",
    "Please ensure you do not have a copy of the course repository inside your personal mp248 Bitbucket repository. This assignment uses many csv files (from the course repository).  **Do not include** these with your homework, and do not store them on your mp248 repository.  The issue here is that if you store large files in your mp248 repository it slows down the grading script substantially and makes it more difficult for us to give you timely feedback before the due date. In your code, just point to the location (outside of your personal repository) when you need them.\n"
   ]
  },
  {
   "cell_type": "markdown",
   "metadata": {
    "collapsed": true
   },
   "source": [
    "## Problem 1\n",
    "\n",
    "Recall Newton's method for finding the roots of $z^3-1$.  The iterator is\n",
    "\n",
    "$$N(z) = z-\\frac{f(z)}{f'(z)} = z - \\frac{z^3-1}{3z^2} = \\frac{2z^2+1}{3z^2}$$\n",
    "\n",
    "In this problem we ask you to use Sympy to find:\n",
    "\n",
    " (a) The points in the plane where Newton's method fails after 2 or 3 iterations. Notice that $N(z) = \\frac{2z^2+1}{3z^2}$ which is well-defined as long as $z \\neq 0$.  Thus Newton's method fails on one iteration only for $z=0$. Find both closed-form expressions for your answers as well as floating-point approximations. Print the approximations in your notebook. Use the Python casting technique **complex(z)** to convert the Sympy complex number **z** to a floating point approximation. In your notebook also count the number of points, i.e. write \"The number of points where Newton's method fails after exactly two iterations is . . .\"\n",
    " \n",
    " (b) The points in the plane where Newton's method is periodic of period 2 or 3.  A point is periodic of period 1 means $N(z) = z$.  Periodic of period 2 means $N(N(z))=z$ and $N(z) \\neq z$.  Periodic of period 3 means $N(N(N(z))) = z$ while $N(z) \\neq z$ and $N(N(z))\\neq z$. \n",
    " \n",
    " So for example, the points of period $1$ are the solution to the equation\n",
    " $$z = N(z) = z - \\frac{z^3-1}{3z^2}$$\n",
    " which we can see are the roots of the original equation $z^3-1$. Similarly write-out the number of periodic points of period exactly 2, similarly for period 3.\n",
    " \n",
    " (c) Make a basins of attraction plot (feel free to use your code from the corresponding lab) for Newton's method for the polynomial $z^3-1$, using the colours red, green and blue.  Add to your plot the points where Newton's method eventually fails (part (a)) in 1, 2 or 3 iterations. Use yellow for these points.  Also add the periodic points of period 1, 2 and 3, using white for these points. Use a scatter plot so you can set the size of the points. Make points where Newton's method eventually fails smaller if it takes more iterations for them to fail, similarly make periodic points of larger period smaller in your plot. Ensure your image has a resolution of 800x800. Use **%matplotlib inline** to ensure your images save to your notebook. \n"
   ]
  },
  {
   "cell_type": "code",
   "execution_count": 1,
   "metadata": {},
   "outputs": [],
   "source": [
    "## Problem 1\n",
    "import sympy as sp"
   ]
  },
  {
   "cell_type": "markdown",
   "metadata": {},
   "source": [
    "## 1.a)"
   ]
  },
  {
   "cell_type": "code",
   "execution_count": 2,
   "metadata": {},
   "outputs": [
    {
     "name": "stdout",
     "output_type": "stream",
     "text": [
      "The Newton iterator function:\n",
      "   3    \n",
      "2⋅z  + 1\n",
      "────────\n",
      "     2  \n",
      "  3⋅z   \n"
     ]
    }
   ],
   "source": [
    "f = sp.Function('f')\n",
    "z = sp.Symbol('z')\n",
    "N = z - f(z)/f(z).diff(z)\n",
    "N = sp.simplify(N.subs(f(z), z**3 - 1)).doit()\n",
    "print(\"The Newton iterator function:\")\n",
    "sp.pprint(N)\n",
    "\n",
    "IT = sp.lambdify(z, N) #a callable function, if needed"
   ]
  },
  {
   "cell_type": "code",
   "execution_count": 3,
   "metadata": {},
   "outputs": [
    {
     "name": "stdout",
     "output_type": "stream",
     "text": [
      "The number of points where Newton's method fails after exactly two iterations is 3 .\n",
      "\n",
      "Root 1 \n",
      "\n",
      "  2/3 \n",
      "-2    \n",
      "──────\n",
      "  2   \n",
      "(-0.7937005259840997+0j)\n",
      "\n",
      "Root 2 \n",
      "\n",
      " 2/3    2/3     \n",
      "2      2   ⋅√3⋅ⅈ\n",
      "──── - ─────────\n",
      " 4         4    \n",
      "(0.3968502629920499-0.6873648184993013j)\n",
      "\n",
      "Root 3 \n",
      "\n",
      " 2/3    2/3     \n",
      "2      2   ⋅√3⋅ⅈ\n",
      "──── + ─────────\n",
      " 4         4    \n",
      "(0.3968502629920499+0.6873648184993013j)\n"
     ]
    }
   ],
   "source": [
    "#solutions for 2 iterations\n",
    "ITfail = sp.solve(N, z)\n",
    "\n",
    "print(\"The number of points where Newton's method fails after exactly two iterations is\", len(ITfail), \".\")\n",
    "\n",
    "counter = 1;\n",
    "for i in ITfail:\n",
    "    print(\"\\nRoot\", counter, \"\\n\")\n",
    "    sp.pprint(i) #closed form expressiong\n",
    "    print(complex(i)) #floating point approximation\n",
    "    counter+=1"
   ]
  },
  {
   "cell_type": "code",
   "execution_count": 4,
   "metadata": {},
   "outputs": [],
   "source": [
    "#solutions for 3 iterations\n"
   ]
  },
  {
   "cell_type": "code",
   "execution_count": null,
   "metadata": {},
   "outputs": [],
   "source": []
  },
  {
   "cell_type": "markdown",
   "metadata": {},
   "source": [
    "## 1.b)"
   ]
  },
  {
   "cell_type": "code",
   "execution_count": null,
   "metadata": {},
   "outputs": [],
   "source": []
  },
  {
   "cell_type": "markdown",
   "metadata": {},
   "source": [
    "## 1.c)"
   ]
  },
  {
   "cell_type": "code",
   "execution_count": null,
   "metadata": {},
   "outputs": [],
   "source": []
  },
  {
   "cell_type": "markdown",
   "metadata": {},
   "source": [
    "## Problem 2\n",
    "\n",
    "In this problem we ask to you extend the code from **Part.II/Data.1.filled.ipynb**. As in class, load and parse the files in the **w.sask** and **w.vic** subdirectories to create the variable **mList**.  For this problem use the data from **mList**.\n",
    "\n",
    "(a) Make a plot of daily precipitation, comparing two cities.  Make the plot for Saskatoon vs. Victoria.  On the x-axis you will have the daily precipitation for Victoria.  On the y-axis you will have the daily precipitation for Saskatoon.  Only plot dates where (in mList) we have precipitation data for both cities.  In particular, once you have combed through the data to find the precipitation data for the common dates, print a line in your python notebook of the form \"Common data: n\" where n is the number of days where we have precipitation data for both Victoria and Saskatoon.  \n",
    "\n",
    "(b) Make a similar daily plot of mean temperatures of Victoria vs. Saskatoon.  Include the linear least squares interpolation in your plot. "
   ]
  },
  {
   "cell_type": "markdown",
   "metadata": {},
   "source": [
    "## 2.a)"
   ]
  },
  {
   "cell_type": "code",
   "execution_count": 5,
   "metadata": {},
   "outputs": [
    {
     "name": "stdout",
     "output_type": "stream",
     "text": [
      "Weather subdirectories: ['w.vic', 'w.sask']\n"
     ]
    }
   ],
   "source": [
    "import os as os\n",
    "import datetime as dt\n",
    "import fnmatch as fn\n",
    "from operator import itemgetter\n",
    "\n",
    "\n",
    "wsubdir = fn.filter(os.listdir('../../physmath248-2018/Part.II'), \"w.*\")\n",
    "print(\"Weather subdirectories:\", wsubdir)"
   ]
  },
  {
   "cell_type": "code",
   "execution_count": 6,
   "metadata": {},
   "outputs": [
    {
     "ename": "FileNotFoundError",
     "evalue": "[Errno 2] No such file or directory: 'w.vic'",
     "output_type": "error",
     "traceback": [
      "\u001b[0;31m---------------------------------------------------------------------------\u001b[0m",
      "\u001b[0;31mFileNotFoundError\u001b[0m                         Traceback (most recent call last)",
      "\u001b[0;32m<ipython-input-6-76ba6a99dafa>\u001b[0m in \u001b[0;36m<module>\u001b[0;34m()\u001b[0m\n\u001b[1;32m      7\u001b[0m \u001b[0;34m\u001b[0m\u001b[0m\n\u001b[1;32m      8\u001b[0m \u001b[0;32mfor\u001b[0m \u001b[0mwd\u001b[0m \u001b[0;32min\u001b[0m \u001b[0mwsubdir\u001b[0m\u001b[0;34m:\u001b[0m\u001b[0;34m\u001b[0m\u001b[0m\n\u001b[0;32m----> 9\u001b[0;31m     \u001b[0mfiles\u001b[0m \u001b[0;34m=\u001b[0m \u001b[0mfn\u001b[0m\u001b[0;34m.\u001b[0m\u001b[0mfilter\u001b[0m\u001b[0;34m(\u001b[0m\u001b[0mos\u001b[0m\u001b[0;34m.\u001b[0m\u001b[0mlistdir\u001b[0m\u001b[0;34m(\u001b[0m\u001b[0mwd\u001b[0m\u001b[0;34m)\u001b[0m\u001b[0;34m,\u001b[0m \u001b[0;34m\"eng-daily*.csv\"\u001b[0m\u001b[0;34m)\u001b[0m\u001b[0;34m\u001b[0m\u001b[0m\n\u001b[0m\u001b[1;32m     10\u001b[0m     \u001b[0;32mfor\u001b[0m \u001b[0mwdf\u001b[0m \u001b[0;32min\u001b[0m \u001b[0mfiles\u001b[0m\u001b[0;34m:\u001b[0m\u001b[0;34m\u001b[0m\u001b[0m\n\u001b[1;32m     11\u001b[0m         \u001b[0;32mwith\u001b[0m \u001b[0mopen\u001b[0m\u001b[0;34m(\u001b[0m\u001b[0;34m'./'\u001b[0m\u001b[0;34m+\u001b[0m\u001b[0mwd\u001b[0m\u001b[0;34m+\u001b[0m\u001b[0;34m'/'\u001b[0m\u001b[0;34m+\u001b[0m\u001b[0mwdf\u001b[0m\u001b[0;34m)\u001b[0m \u001b[0;32mas\u001b[0m \u001b[0mf\u001b[0m\u001b[0;34m:\u001b[0m\u001b[0;34m\u001b[0m\u001b[0m\n",
      "\u001b[0;31mFileNotFoundError\u001b[0m: [Errno 2] No such file or directory: 'w.vic'"
     ]
    }
   ],
   "source": [
    "## each file is of the form \"key\", \"data\" for several lines, then a blank space\n",
    "## \"Legend\" then several (ignorable) lines, then a blank space\n",
    "## \"keys\" separated by commas then\n",
    "## remaining lines are the key values for each measurement. \n",
    "\n",
    "masterList = [] ## list of weather station dict objects\n",
    "\n",
    "for wd in wsubdir:\n",
    "    files = fn.filter(os.listdir(wd), \"eng-daily*.csv\")\n",
    "    for wdf in files:\n",
    "        with open('./'+wd+'/'+wdf) as f:\n",
    "            blanks=0\n",
    "            content = f.readlines()\n",
    "            FD = dict() ## file dict head.\n",
    "            FL = [] ## file list.\n",
    "            keys = []\n",
    "            for LN in content:\n",
    "                PL = LN.replace(u'\\ufeff','').split(\",\")\n",
    "                for i in range(len(PL)): # this removes the quotes around the numbers.\n",
    "                    PL[i] = PL[i].translate({ord(c): None for c in '\"\\n'})\n",
    "                if len(PL)==1 and PL[0]=='':\n",
    "                    blanks+=1\n",
    "                    if blanks==2 and PL[0]=='':\n",
    "                        continue\n",
    "                ## if blanks==0 we need to build the main dict\n",
    "                ## if blanks==1 we ignore\n",
    "                ## if blanks==2 we build the data.\n",
    "                if blanks==0:\n",
    "                    FD[PL[0]] = PL[1]\n",
    "                    if PL[0]==\"Station Name\":\n",
    "                        FD[\"Data\"] = []\n",
    "                if blanks==2:\n",
    "                    if PL[0]==\"Date/Time\":\n",
    "                        keys = PL\n",
    "                    else:\n",
    "                        FD[\"Data\"].append( { keys[i] : PL[i] for i in range(len(keys)) } )\n",
    "            masterList.append(FD)        \n",
    "\n",
    "## make set of \"Station Name\"s. \n",
    "## use it to merge common station names into one (more useful) masterList.\n",
    "sNames = { x['Station Name'] for x in masterList}\n",
    "print(\"Station names:\", sNames)\n",
    "\n",
    "## return index of list of dict if dict keyed-element exists, -1 otherwise\n",
    "def indIfExists(LOD, keyname, value):\n",
    "    for i in range(len(LOD)):\n",
    "        if LOD[i][keyname] == value:\n",
    "            return i\n",
    "    return -1\n",
    "\n",
    "## run through masterlist, if that airport exists in mList we merge, if not, we copy it over.\n",
    "mList = []\n",
    "while len(masterList)>0:\n",
    "    I = indIfExists(mList, 'Station Name', masterList[-1]['Station Name'])\n",
    "    if I<0:\n",
    "        mList.append(masterList.pop())\n",
    "    else:\n",
    "        mList[I][\"Data\"].extend(masterList.pop()[\"Data\"])\n",
    "\n",
    "## run through the weather station data, replace the date record with a datetime object\n",
    "for WS in mList:\n",
    "    badItems = set()\n",
    "    for i in range(len(WS[\"Data\"])):\n",
    "        ## Let's convert the dict from strings to appropriate datetime and float objects\n",
    "        ## dates with bad data we will flag and remove.\n",
    "        for key, value in WS[\"Data\"][i].items():\n",
    "            if key==\"Date/Time\":\n",
    "                WS[\"Data\"][i][key] = dt.datetime.strptime(value, \"%Y-%m-%d\")\n",
    "            elif key in [ 'Min Temp (°C)', 'Total Precip (mm)',  \\\n",
    "                          'Max Temp (°C)', 'Mean Temp (°C)']:\n",
    "                try:\n",
    "                    WS[\"Data\"][i][key] = float(value)\n",
    "                except:\n",
    "                    badItems.add( i )\n",
    "    #print(len(WS[\"Data\"]), end=\" \")\n",
    "    WS[\"Data\"] = [WS[\"Data\"][i] for i in range(len(WS[\"Data\"])) if i not in badItems]\n",
    "    #print(len(WS[\"Data\"]), \"\\n\")\n",
    "    WS[\"Data\"] = sorted(WS[\"Data\"], key=itemgetter(\"Date/Time\"))"
   ]
  },
  {
   "cell_type": "code",
   "execution_count": null,
   "metadata": {},
   "outputs": [],
   "source": []
  },
  {
   "cell_type": "markdown",
   "metadata": {
    "collapsed": true
   },
   "source": [
    "## Problem 3\n",
    "\n",
    "In this problem we ask you to extend your code from the second quiz. Recall the function\n",
    "\n",
    "$$ f(n) = \\left\\{ \\matrix{n/2 & if \\ n \\ even \\cr 3n+1 & if \\ n \\ odd} \\right.$$\n",
    "\n",
    "In the quiz, we asked you to apply $f$ repeatedly to integer inputs and keep track of how many iterations it took until you found the integer $1$. \n",
    "\n",
    "Write some code that computes a list, $L$, where the $k$-th element of the list is the number of times it takes to turn $k+1$ into $1$ by applying the function $f$.  \n",
    "\n",
    "Now consider the function $T(k) = L[0] + L[1] + \\cdots + L[k-1]$.   Make a plot of $T(k)$ for $k=1,2,3, \\cdots, 10000$.  Do a least squares interpolation on this plot, for a linear and quadratic fitting.   Try it again on the plot for $k=1,2,3, \\cdots, 100000$.  Does it look like the least squares fittings are converging?  "
   ]
  },
  {
   "cell_type": "markdown",
   "metadata": {},
   "source": [
    "## 3"
   ]
  },
  {
   "cell_type": "code",
   "execution_count": 7,
   "metadata": {},
   "outputs": [],
   "source": [
    "## Define f here\n",
    "def f(n):\n",
    "    if n % 2 == 0:\n",
    "        return n//2\n",
    "    else:\n",
    "        return 3*n+1"
   ]
  },
  {
   "cell_type": "code",
   "execution_count": 8,
   "metadata": {},
   "outputs": [],
   "source": [
    "## function which takes as input n, and computes the sequence s+1_k\n",
    "## have the function terminate, returning True, if it discovers s+1_k=1\n",
    "def g(n):\n",
    "    s = n+1\n",
    "    kk = 1\n",
    "    while s != 1:\n",
    "        s = f(s)\n",
    "        kk += 1\n",
    "    return kk "
   ]
  },
  {
   "cell_type": "code",
   "execution_count": 9,
   "metadata": {},
   "outputs": [],
   "source": [
    "## function that saves the number of iterations from g(n) into a list.\n",
    "def h(x):\n",
    "    A=[];\n",
    "    for n in range(x):\n",
    "        A.append(g(n))\n",
    "    print\n",
    "    return A;"
   ]
  },
  {
   "cell_type": "code",
   "execution_count": 10,
   "metadata": {},
   "outputs": [
    {
     "name": "stdout",
     "output_type": "stream",
     "text": [
      "[1, 2, 8, 3, 6, 9, 17, 4, 20, 7, 15, 10, 10, 18, 18, 5, 13, 21, 21, 8, 8, 16, 16, 11, 24, 11, 112, 19, 19, 19, 107, 6, 27, 14, 14, 22, 22, 22, 35, 9, 110, 9, 30, 17, 17, 17, 105, 12, 25, 25]\n"
     ]
    }
   ],
   "source": [
    "#test of h(x):\n",
    "L = h(50)\n",
    "print(L) #wahoo, looks good!"
   ]
  },
  {
   "cell_type": "code",
   "execution_count": 11,
   "metadata": {},
   "outputs": [
    {
     "name": "stdout",
     "output_type": "stream",
     "text": [
      "1091\n"
     ]
    }
   ],
   "source": [
    "## function that takes a list containing k elements (each one a number of iterations) and sums up list[0] - list[k-1]\n",
    "def T(k):\n",
    "    L = h(k)\n",
    "    s = sum(L[:k-1])\n",
    "    return s;\n",
    "\n",
    "#test of T(k):\n",
    "print(T(50)) #wahoo, looks good!"
   ]
  },
  {
   "cell_type": "code",
   "execution_count": 55,
   "metadata": {},
   "outputs": [],
   "source": [
    "#plotting\n",
    "import matplotlib.pyplot as plt\n",
    "import numpy as np"
   ]
  },
  {
   "cell_type": "markdown",
   "metadata": {},
   "source": [
    "## PLOTTING FOR K = 1, 2,...,10000. (with least squares)"
   ]
  },
  {
   "cell_type": "code",
   "execution_count": 63,
   "metadata": {},
   "outputs": [],
   "source": [
    "#generate a quadratic expression using the coefficients from least squares\n",
    "def quad(x, c1, c2, c3):\n",
    "    f = c1*x**2 + c2*x + c3;\n",
    "    return f;"
   ]
  },
  {
   "cell_type": "code",
   "execution_count": 64,
   "metadata": {},
   "outputs": [],
   "source": [
    "#generate a linear expression using the coefficients from least squares\n",
    "def linear(x, c1, c2):\n",
    "    f = c1*x + c2;\n",
    "    return f;"
   ]
  },
  {
   "cell_type": "code",
   "execution_count": 65,
   "metadata": {},
   "outputs": [],
   "source": [
    "#***********************************\n",
    "#generating plots for T(k):\n",
    "\n",
    "xbar = [k for k in range(1,10000)]\n",
    "ybar = [T(k) for k in range(1,10000)]\n",
    "#***********************************"
   ]
  },
  {
   "cell_type": "code",
   "execution_count": 66,
   "metadata": {},
   "outputs": [],
   "source": [
    "#***********************************\n",
    "#least squares linear fitting:\n",
    "\n",
    "coeff1a = np.polyfit(xbar,ybar,1)\n",
    "co1a = coeff1a[0]\n",
    "co2a = coeff1a[1]\n",
    "\n",
    "xbar1 = [k for k in range(1,10000)]\n",
    "ybar1 = [linear(k, co1a, co2a) for k in range(1,10000)]\n",
    "#***********************************"
   ]
  },
  {
   "cell_type": "code",
   "execution_count": 67,
   "metadata": {},
   "outputs": [],
   "source": [
    "#***********************************\n",
    "#least squares quadratic fitting:\n",
    "\n",
    "coeff2a = np.polyfit(xbar,ybar,2)\n",
    "co3a = coeff2a[0]\n",
    "co4a = coeff2a[1]\n",
    "co5a = coeff2a[2]\n",
    "\n",
    "xbar2 = [k for k in range(1,10000)]\n",
    "ybar2 = [quad(k, co3a, co4a, co5a) for k in range(1, 10000)]\n",
    "#***********************************"
   ]
  },
  {
   "cell_type": "code",
   "execution_count": 68,
   "metadata": {},
   "outputs": [
    {
     "data": {
      "image/png": "[encoded data removed]",
      "text/plain": [
       "<matplotlib.figure.Figure at 0x7f8a7aafe2b0>"
      ]
     },
     "metadata": {},
     "output_type": "display_data"
    }
   ],
   "source": [
    "plt.figure(figsize = (12,12))\n",
    "plt.plot(xbar,ybar,',', color = 'black', label = 'T(k)')\n",
    "plt.plot(xbar1,ybar1,'-', color = 'red', label = 'Linear fitting')\n",
    "plt.plot(xbar2, ybar2, '--', color = 'blue', label = 'Quadratic fitting')\n",
    "plt.legend(loc=0)\n",
    "plt.show()\n",
    "plt.close()"
   ]
  },
  {
   "cell_type": "markdown",
   "metadata": {},
   "source": [
    "## PLOTTING FOR K = 1, 2,...,100000. (with least squares)\n"
   ]
  },
  {
   "cell_type": "code",
   "execution_count": null,
   "metadata": {},
   "outputs": [],
   "source": [
    "#***********************************\n",
    "#generating plots for T(k):\n",
    "\n",
    "xbar3 = [k for k in range(1,100000)]\n",
    "ybar3 = [T(k) for k in range(1,100000)]\n",
    "#***********************************"
   ]
  },
  {
   "cell_type": "code",
   "execution_count": null,
   "metadata": {},
   "outputs": [],
   "source": [
    "#***********************************\n",
    "#least squares linear fitting:\n",
    "\n",
    "coeff1b = np.polyfit(xbar3,ybar3,1)\n",
    "co1b = coeff1b[0]\n",
    "co2b = coeff1b[1]\n",
    "\n",
    "xbar1 = [k for k in range(1,100000)]\n",
    "ybar1 = [linear(k, co1b, co2b) for k in range(1,100000)]\n",
    "#***********************************"
   ]
  },
  {
   "cell_type": "code",
   "execution_count": null,
   "metadata": {},
   "outputs": [],
   "source": [
    "#***********************************\n",
    "#least squares quadratic fitting:\n",
    "\n",
    "coeff2b = np.polyfit(xbar3,ybar3,2)\n",
    "co3b = coeff2b[0]\n",
    "co4b = coeff2b[1]\n",
    "co5b = coeff2b[2]\n",
    "\n",
    "xbar2 = [k for k in range(1,100000)]\n",
    "ybar2 = [quad(k, co3b, co4b, co5b) for k in range(1, 100000)]\n",
    "#***********************************"
   ]
  },
  {
   "cell_type": "code",
   "execution_count": 72,
   "metadata": {},
   "outputs": [
    {
     "data": {
      "image/png": "[encoded data removed]",
      "text/plain": [
       "<matplotlib.figure.Figure at 0x7f8a7ae19710>"
      ]
     },
     "metadata": {},
     "output_type": "display_data"
    }
   ],
   "source": [
    "plt.figure(figsize = (12,12))\n",
    "plt.plot(xbar3,ybar3,',', color = 'black', label = 'T(k)')\n",
    "plt.plot(xbar1,ybar1,'-', color = 'red', label = 'Linear fitting')\n",
    "plt.plot(xbar2, ybar2, '--', color = 'blue', label = 'Quadratic fitting')\n",
    "plt.legend(loc=0)\n",
    "plt.show()\n",
    "plt.close()"
   ]
  },
  {
   "cell_type": "markdown",
   "metadata": {},
   "source": [
    "Yes, the least squares fittings look like they are converging."
   ]
  },
  {
   "cell_type": "code",
   "execution_count": null,
   "metadata": {},
   "outputs": [],
   "source": []
  }
 ],
 "metadata": {
  "anaconda-cloud": {},
  "kernelspec": {
   "display_name": "Python 3",
   "language": "python",
   "name": "python3"
  },
  "language_info": {
   "codemirror_mode": {
    "name": "ipython",
    "version": 3
   },
   "file_extension": ".py",
   "mimetype": "text/x-python",
   "name": "python",
   "nbconvert_exporter": "python",
   "pygments_lexer": "ipython3",
   "version": "3.5.2"
  }
 },
 "nbformat": 4,
 "nbformat_minor": 1
}
