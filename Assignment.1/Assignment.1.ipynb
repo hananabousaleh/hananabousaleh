{
 "cells": [
  {
   "cell_type": "markdown",
   "metadata": {},
   "source": [
    "# Assignment 1\n",
    "\n",
    "As for Quiz 1, create a new directory called `Assignment.1` in your own mp248 repository. Add all answer files to that directory, and add to your BitBucket repository. Our grading script will pull the assignment from there, starting around Monday morning. It will perform several tests on your assignment work as it becomes available. It is ok to submit work early, including partially finished work, so that you can get initial feedback through the automatic grading script. After the submission deadline, which is Friday Jan 26, TAs will manual grade your assignment and leave you with some comments. The graded assigments will be pushed back to your own mp248 BitBucket repository.\n",
    "\n",
    "Refer to the grading scheme for guidance of what is expected. Each part P1, P2.1, P2.2, P2.3 & P2.4 is equally weighted. "
   ]
  },
  {
   "cell_type": "markdown",
   "metadata": {},
   "source": [
    "## Problem 1\n",
    "\n",
    "Download the [textfile](http://www.textfiles.com/etext/AUTHORS/SHAKESPEARE/shakespeare-macbeth-46.txt) containing SHAKESPEARE: Macbeth, using the command line. write a shell script called `shake_analysis.sh` that analyses the file and writes out (one answer per line):\n",
    "1. How many lines does the file have? \n",
    "2. How many lines contain the string \"LADY MACBETH\".\n",
    "3. How many lines contain the string \"LADY MACBETH\" and \"must\"?\n",
    "4. What is the 8th word from the line that contains both the word \"LADY MACBETH\" and \"blood\"? Output that word.\n",
    "\n",
    "Finally, create a file `shake.txt` in which all instances of \"LADY MACBETH\" are replaced with \"LADY GAGA\"."
   ]
  },
  {
   "cell_type": "markdown",
   "metadata": {},
   "source": [
    "## Problem 2\n",
    "The [Gaussian function](https://en.wikipedia.org/wiki/Gaussian_function) is given by \n",
    "$$\n",
    "f(x) = a e^{-\\frac{(x-b)^2}{2c^2}}\n",
    "$$\n",
    "\n",
    "### P2.1\n",
    "* Create a function called `gauss` in python that evaluates the Gaussian function for the required input parameter `x` and the optional parameters `a`, `b`, `c`. Use `a=c=1` and `b=0` as default. Make sure you include a doc string in your function. Test your function for various input parameters. \n",
    "* Create a python module with the name `functions.py` and add this function to `functions.py`. \n",
    "* Open an output file called `gaus_int.out`. What is $f(1)$ when $a, b, c$ are the default value. Write your answer with 3 significant digits to the file `gaus_int.out` in a full sentence using formatted `printf` specifications."
   ]
  },
  {
   "cell_type": "code",
   "execution_count": 2,
   "metadata": {},
   "outputs": [],
   "source": [
    "import functions as f"
   ]
  },
  {
   "cell_type": "code",
   "execution_count": 3,
   "metadata": {},
   "outputs": [],
   "source": [
    "x1=f.gauss(3)\n",
    "x2=f.gauss(1)\n",
    "x3=f.gauss(0)"
   ]
  },
  {
   "cell_type": "code",
   "execution_count": 9,
   "metadata": {},
   "outputs": [
    {
     "data": {
      "text/plain": [
       "(8103.083927575384, 2.718281828459045, 1.0)"
      ]
     },
     "execution_count": 9,
     "metadata": {},
     "output_type": "execute_result"
    }
   ],
   "source": [
    "x1, x2, x3"
   ]
  },
  {
   "cell_type": "code",
   "execution_count": 18,
   "metadata": {},
   "outputs": [],
   "source": [
    "f=open('gaus_int.out', 'r')"
   ]
  },
  {
   "cell_type": "code",
   "execution_count": 19,
   "metadata": {},
   "outputs": [],
   "source": [
    "#f.write('hello world')"
   ]
  },
  {
   "cell_type": "code",
   "execution_count": 20,
   "metadata": {},
   "outputs": [
    {
     "name": "stdout",
     "output_type": "stream",
     "text": [
      "hello world\n"
     ]
    }
   ],
   "source": [
    "print(f.read())"
   ]
  },
  {
   "cell_type": "markdown",
   "metadata": {},
   "source": [
    "### P2.2\n",
    "Make a plot of the Gaussian function for $x \\in [-3,5]$ for\n",
    "- default\n",
    "- $a=0.5$\n",
    "- $b=1$\n",
    "- $c=0.5$\n",
    "Provide a legend for each line, and of course axis labels as well. Use a different line style for each line. Briefly describe the meaning of each parameter."
   ]
  },
  {
   "cell_type": "markdown",
   "metadata": {},
   "source": [
    "### P2.3\n",
    "Integrate the Gaussian function for $c = \\sqrt \\frac{1}{2}$ default in a given interval $x \\in [-x_b,x_b]$ by approximating the curve under the graph by _right trapezoids_ where the height of the left and right boundary of the $\\Delta x$ interval are separately evaluated, and their average is taken to be the height of the rectangle ([Trapezoidal rule](https://en.wikipedia.org/wiki/Trapezoidal_rule)). \n",
    "\n",
    "1. Create a function with the name `sym_gauss_int_sqr` that computes the square of the total area under the curve inside the interval. Save the function in a module file with the name `integrate.py`. The function should have two input parameters: \n",
    "    * `xb` is the boundary of the integration interval $[-x_b,x_b]$\n",
    "    * `n` is the number of grid cells in the x direction to be used in the numerical integration. `n` should be an optional argument and the default should be `n=10`.\n",
    "2. Using your function determine the answer for the interval boundary $x_b = 3$. What is that number called? Add to the file `gaus_int.out` a line with a string with the name of the number, and in the second line the answer from executing your function as described above, as a floating point number with 3 significant digits. \n",
    "3. For this integral, how many grid cells in the x direction do you need to get a result at $\\leq 0.1\\%$ precision? Add your answer to the file `gaus_int.out` by writing in python a formatted output string `The precision is better than 1.0e-03 for n >= [your answer] . ` to that file.\n",
    "4. Using that number of grid cells, determine the minimum interval boundary `xb_min` provided with two significant digits so that the square of the integration over the interval $[-xb_min,xb_min]$ contains a fraction of $99\\%$ of the square of the area, that you would get if you integrated over $[-\\inf,\\inf]$. Write another line to your output file like this: \n",
    "`Interval boundary  >= [your number here] for > 99% of the square of the indefinite integral included.`"
   ]
  },
  {
   "cell_type": "markdown",
   "metadata": {},
   "source": [
    "### P2.4\n",
    "Create a plot of the two-dimensional Gaussian function\n",
    "$$\n",
    "h(x,y) = \\exp{-(x^2 + y^2)}\n",
    "$$\n",
    "for $x \\in [-1,1.2]$ and $y \\in [-1,1.5]$. \n",
    "Do both a \n",
    "* 3D surface plot, and a\n",
    "* contour plot with labels."
   ]
  }
 ],
 "metadata": {
  "anaconda-cloud": {},
  "kernelspec": {
   "display_name": "Python 3",
   "language": "python",
   "name": "python3"
  },
  "language_info": {
   "codemirror_mode": {
    "name": "ipython",
    "version": 3
   },
   "file_extension": ".py",
   "mimetype": "text/x-python",
   "name": "python",
   "nbconvert_exporter": "python",
   "pygments_lexer": "ipython3",
   "version": "3.5.2"
  }
 },
 "nbformat": 4,
 "nbformat_minor": 2
}
