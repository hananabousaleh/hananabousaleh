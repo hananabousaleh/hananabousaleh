{
 "cells": [
  {
   "cell_type": "markdown",
   "metadata": {},
   "source": [
    "# Lab -- Sympy.1\n",
    "\n",
    "This lab gives you a few tasks to help you become familiar with Sympy. \n",
    "\n",
    "1) In class we saw that Sympy had trouble recognising that expressions like\n",
    "\n",
    "$$\\frac{1}{\\sqrt 2 - 1} = \\sqrt{2} + 1$$\n",
    "\n",
    "are true (*).  Find a way to use Sympy's <a href=\"http://docs.sympy.org/latest/tutorial/simplification.html\">simplify</a> command to verify (in Sympy) that the above equality is true.\n",
    "\n",
    "(*) - In a strict sense, Sympy does this task very well, the point of this exercise is to learn that the equality symbol is not how one asks Sympy to check for equality of Sympy objects."
   ]
  },
  {
   "cell_type": "code",
   "execution_count": 2,
   "metadata": {
    "collapsed": false
   },
   "outputs": [
    {
     "name": "stdout",
     "output_type": "stream",
     "text": [
      "0\n"
     ]
    }
   ],
   "source": [
    "import sympy as sp\n",
    "print(sp.simplify(1/(sp.sqrt(2)-1) - sp.sqrt(2) -1))"
   ]
  },
  {
   "cell_type": "markdown",
   "metadata": {},
   "source": [
    "2) Make the function $$f(x) = x^5 - x^4 + x^3 - x^2 + x - 1$$\n",
    "into a sympy expression.  Use Sympy's substitute command (*subs*) to replace the variable\n",
    "$x$ by $x+1$, and expand the expression as a polynomial in $x$, i.e. \n",
    "\n",
    "$$f(x+1) = a_5 x^5 + a_4 x^4 + a_3 x^3 + a_2 x^2 + a_1 x + a_0$$"
   ]
  },
  {
   "cell_type": "code",
   "execution_count": 36,
   "metadata": {
    "collapsed": false
   },
   "outputs": [
    {
     "name": "stdout",
     "output_type": "stream",
     "text": [
      " 5    4    3    2        \n",
      "x  - x  + x  - x  + x - 1\n",
      "           5          4          3          2    5      4      3      2      \n",
      "x + (x + 1)  - (x + 1)  + (x + 1)  - (x + 1)  = x  + 4⋅x  + 7⋅x  + 6⋅x  + 3⋅x\n"
     ]
    }
   ],
   "source": [
    "x = sp.Symbol('x')\n",
    "f = x**5 - x**4 + x**3 - x**2 + x - 1\n",
    "sp.pprint(f)\n",
    "fp1 = f.subs(x, x+1)\n",
    "fs = sp.expand(fp1)\n",
    "sp.pprint(sp.Eq(fp1, fs))\n"
   ]
  },
  {
   "cell_type": "markdown",
   "metadata": {},
   "source": [
    "3) Often when one uses trig functions \"in practice\" one gets bogged-down in the many equivalent ways of writing the same trig function.  For example, there are the equalities\n",
    "\n",
    "$$ 2 \\sin x + \\cos x = -\\sqrt{5} \\sin(x - 2 \\arctan(2+\\sqrt{5}))$$\n",
    "\n",
    "and\n",
    "\n",
    "$$ \\sin^2 x + \\cos^2 x = 1$$\n",
    "\n",
    "etc. \n",
    "\n",
    "Use Sympy's *trigonometric simplification and manipulation* algorithms to write\n",
    "\n",
    "$$ f(x) = 3 \\sin x - \\cos x $$\n",
    "\n",
    "in the form \n",
    "\n",
    "$$ f(x) = A \\sin(x-\\phi)$$\n",
    "\n",
    "in this form $A$ would be called the *amplitude* and $\\phi$ the phase of the function."
   ]
  },
  {
   "cell_type": "code",
   "execution_count": 4,
   "metadata": {
    "collapsed": false
   },
   "outputs": [
    {
     "name": "stdout",
     "output_type": "stream",
     "text": [
      "2⋅sin(x) + cos(x)\n"
     ]
    }
   ],
   "source": [
    "x = sp.Symbol('x')\n",
    "f = 2*sp.sin(x) + sp.cos(x)\n",
    "sp.pprint(f)"
   ]
  },
  {
   "cell_type": "code",
   "execution_count": 21,
   "metadata": {
    "collapsed": false
   },
   "outputs": [
    {
     "name": "stdout",
     "output_type": "stream",
     "text": [
      "2⋅sin(b + x) + cos(b + x)\n",
      "-sin(b)⋅sin(x) + 2⋅sin(b)⋅cos(x) + 2⋅sin(x)⋅cos(b) + cos(b)⋅cos(x)\n",
      "(-sin(b) + 2⋅cos(b))⋅sin(x) + (2⋅sin(b) + cos(b))⋅cos(x)\n"
     ]
    }
   ],
   "source": [
    "b = sp.Symbol('b')\n",
    "fb = 2*sp.sin(x+b)+sp.cos(x+b)\n",
    "sp.pprint(fb)\n",
    "fb = sp.expand_trig(fb)\n",
    "sp.pprint(fb)\n",
    "fb = sp.collect(fb, sp.sin(x))\n",
    "fb = sp.collect(fb, sp.cos(x))\n",
    "sp.pprint(fb)"
   ]
  },
  {
   "cell_type": "code",
   "execution_count": 26,
   "metadata": {
    "collapsed": false
   },
   "outputs": [
    {
     "name": "stdout",
     "output_type": "stream",
     "text": [
      "2⋅atan(2 + √5)\n",
      "-√5⋅sin(x)\n"
     ]
    }
   ],
   "source": [
    "## so we need to solve 2sin(b)+cos(b) = 0\n",
    "SOL = sp.solve(2*sp.sin(x)+sp.cos(x))\n",
    "sp.pprint(SOL[0])\n",
    "fb = sp.simplify(fb.subs(b, SOL[0]))\n",
    "sp.pprint(fb)\n"
   ]
  },
  {
   "cell_type": "markdown",
   "metadata": {},
   "source": []
  }
 ],
 "metadata": {
  "kernelspec": {
   "display_name": "Python [conda root]",
   "language": "python",
   "name": "conda-root-py"
  },
  "language_info": {
   "codemirror_mode": {
    "name": "ipython",
    "version": 3
   },
   "file_extension": ".py",
   "mimetype": "text/x-python",
   "name": "python",
   "nbconvert_exporter": "python",
   "pygments_lexer": "ipython3",
   "version": "3.5.2"
  }
 },
 "nbformat": 4,
 "nbformat_minor": 1
}
