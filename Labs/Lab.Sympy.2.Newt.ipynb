{
 "cells": [
  {
   "cell_type": "markdown",
   "metadata": {},
   "source": [
    "# Lab 2 - Newton basins of attraction\n",
    "    \n",
    "In class today we created the function\n",
    "\n",
    "    def plotNewt(f, x, x0):\n",
    "    \n",
    "that takes as input a function $f(x)$ and an initial value $x_0$.  It then creates a plot illustrating Newton's method. \n",
    "\n",
    "We noticed for functions like $x^2-2$, $\\cos(x)$ and $\\sin(x)$ that the root Newton's method finds depends to a large extent on the initial guess $x_0$.  The trend we saw from class was that:\n",
    "\n",
    "   a) If $x_0$ is close-enough to a root, Newton's method converges very fast to it.\n",
    "\n",
    "   b) If $x_0$ is relatively far from roots, Newton's method may wander a large amount before settling down to a root.  It can also occasionally fail to find a root.  Mostly this seemed to occur when $x_i$ eventually was outside of the domain of the Newton iterator, and in all the instances we examined this was when $f'(x_i)$ was not defined. \n",
    "\n",
    "## Part (A)\n",
    "\n",
    "For this lab we ask you to make a plot of pairs $(x_0, R(x_0))$ where $x_0$ is an initial value, and $R(x_0)$ is the root Newton's method converges to when given $x_0$ as its initial value. \n",
    "\n",
    "As you make progress on this project, you will need to make some decisions.  For example, if Newton's method fails, it perhaps makes the most sense not to plot a point $(x_0, R(x_0))$.  Similarly, you might find the values $R(x_0)$ are too large, so you might need to adjust your scale, or to make some other \"off scale\" convention. \n",
    "\n",
    "Do your plot for the three functions:\n",
    "\n",
    "$$ (1) \\ \\ f(x) = x(x-1)(x+1)$$\n",
    "\n",
    "$$ (2) \\ \\ f(x) = \\sin(x)$$\n",
    "\n",
    "$$ (3) \\ \\ f(x) = \\cos(x)$$\n",
    "\n",
    "It perhaps makes sense to just make one routine that takes as input $f(x)$ as well as the $x$-axis interval you would like to perform your plot on.   For (1) make your interval $[-2,2]$.  For (2) make your interval $[-3\\pi, 3\\pi]$ and for (3) make your interval $[-\\pi, \\pi]$. \n"
   ]
  },
  {
   "cell_type": "code",
   "execution_count": null,
   "metadata": {
    "collapsed": true
   },
   "outputs": [],
   "source": []
  },
  {
   "cell_type": "code",
   "execution_count": null,
   "metadata": {
    "collapsed": true
   },
   "outputs": [],
   "source": []
  },
  {
   "cell_type": "markdown",
   "metadata": {},
   "source": [
    "## Part (B)\n",
    "\n",
    "Newton's method works in a wide variety of contexts other than functions of a single real variable.  People also apply it to functions of complex variables to solve complex equations such as $z^8 - z^2 + z - 2 =0$, and for functions of matrix variables to solve equations such as $A^4 - 3A^2 + 2A + I = 0$, where say $A$ is an $n \\times n$ matrix. \n",
    "\n",
    "Consider applying Newton's method to find the roots of\n",
    "$$z^3 - 1$$\n",
    "in the complex plane.  This polynomial factors as\n",
    "$$z^3 - 1 = (z-1)(z^2 + z + 1) = (z-1)(z-e^\\frac{2\\pi i}{3})(z-e^{-\\frac{2\\pi i}{3}})$$\n",
    "so there are three roots (in the complex plane), and they are:\n",
    "$$ 1, \\ \\ e^\\frac{2\\pi i}{3} = \\cos \\frac{2 \\pi}{3} + i \\sin\\frac{2\\pi}{3}, \\ \\ e^\\frac{-2\\pi i}{3} = \\cos \\frac{2 \\pi}{3} - i \\sin \\frac{2 \\pi}{3} $$\n",
    "\n",
    "We know the roots of this polynomial exactly.  The purpose of this exercise is to plot how the root Newton's method finds depends on our initial guess.\n",
    "\n",
    "We accomplish the task with a *matplotlib.pyplot.imshow()* plot.\n",
    "\n",
    "This means will decide how pixels in the image correspond to points in the complex plane. For this plot, let the real and imaginary parts of our complex variable $z$ range through the interval $[-2,2]$, i.e. $z = x+iy$ with $-2 \\leq x,y \\leq 2$. \n",
    "\n",
    "Let's colour the point in the image red, green or blue depending on which of the three roots Newton's method finds. \n",
    "\n",
    "Before you begin, notice that our Newton method code from class works perfectly well in this new context."
   ]
  },
  {
   "cell_type": "code",
   "execution_count": null,
   "metadata": {
    "collapsed": true
   },
   "outputs": [],
   "source": [
    "import sympy as sp\n",
    "\n",
    "## it is a common convention to call complex variables z, \n",
    "z = sp.Symbol('z') ## but you could call it whatever you like.\n",
    "\n",
    "f = z**3 - 1\n",
    "\n",
    "N = z - f/f.diff(z)\n",
    "\n",
    "sp.pprint(N)\n",
    "\n",
    "F = sp.lambdify(z, f)\n",
    "IT = sp.lambdify(z, N)"
   ]
  },
  {
   "cell_type": "markdown",
   "metadata": {},
   "source": [
    "In most python libraries, complex floats are given with the notation using \"j\" for the unit imaginary, i.e. $j^2=-1$.  "
   ]
  },
  {
   "cell_type": "code",
   "execution_count": 5,
   "metadata": {
    "collapsed": false
   },
   "outputs": [
    {
     "name": "stdout",
     "output_type": "stream",
     "text": [
      "A complex float:  (0.1+0.3j)\n"
     ]
    }
   ],
   "source": [
    "print(\"A complex float: \",0.1+0.3j)"
   ]
  },
  {
   "cell_type": "code",
   "execution_count": 18,
   "metadata": {
    "collapsed": false
   },
   "outputs": [
    {
     "name": "stdout",
     "output_type": "stream",
     "text": [
      "1.0000 + 0.5000i\n",
      "0.8267 + 0.1200i\n",
      "1.0091 + -0.0558i\n",
      "0.9971 + -0.0012i\n",
      "1.0000 + 0.0000i\n"
     ]
    }
   ],
   "source": [
    "## Notice our Newton iterator is totally comfortable with complex numbers, as we would hope!\n",
    "\n",
    "zi = 1.0+0.5j\n",
    "for i in range(5):\n",
    "    ## note also printing formatted complex numbers requires more work!\n",
    "    print(\"%1.4f + %1.4fi\" % (zi.real, zi.imag) )\n",
    "    zi = IT(zi)"
   ]
  },
  {
   "cell_type": "markdown",
   "metadata": {},
   "source": [
    "And as we might expect, the Newton iterator, near $1$ converges to $1$."
   ]
  },
  {
   "cell_type": "markdown",
   "metadata": {
    "collapsed": true
   },
   "source": [
    "So your task is to create create a pyplot *imshow()* plot, which colours a pixel red, green or blue depending on which root Newton's method finds.  The pixel corresponds to a complex initial guess $z_0 = x_0 + i y_0$ with $-2 \\leq x_0, y_0 \\leq 2$.  \n",
    "\n",
    "Your final image should look something like this:\n",
    "\n",
    "<img src=\"Newt.png\">"
   ]
  },
  {
   "cell_type": "code",
   "execution_count": null,
   "metadata": {
    "collapsed": true
   },
   "outputs": [],
   "source": []
  },
  {
   "cell_type": "code",
   "execution_count": null,
   "metadata": {
    "collapsed": true
   },
   "outputs": [],
   "source": []
  },
  {
   "cell_type": "code",
   "execution_count": null,
   "metadata": {
    "collapsed": true
   },
   "outputs": [],
   "source": []
  },
  {
   "cell_type": "markdown",
   "metadata": {},
   "source": [
    "If you complete part (B) with time to spare, create a generalized algorithm:\n",
    "\n",
    "    basinplot(f, z, roots, rootcol, RMIN, RMAX, IMIN, IMAX, xres, yres)\n",
    " \n",
    "which takes as input:\n",
    "\n",
    " - a complex function *f*, for example $f=\\cos z$ would be allowed.\n",
    " - the variable name, *z*.\n",
    " - *roots* will be a list of known zeros of the equation $f(z)=0$.\n",
    " - *rootcol* will be another list of the colour you associate to a pixel if Newton's method converges to the corresponding root.\n",
    " - In the plot $RMIN \\leq Re(z) \\leq RMAX$\n",
    " - $IMIN \\leq Im(z) \\leq IMAX$\n",
    " - *xres* and *yres* will be the resolution of your image in the x and y directions, respectively. \n",
    " \n",
    "The *basinplot* function will create an image where pixels in the image correspond to initial guesses $z_0$ for Newton's method.  If Newton's method with initial condition $z_0$ converges to a root from your list *roots*, you colour it with the corresponding colour listed in *rootcol*.  If the root does not appear in the your list, perhaps leave the pixel white or black -- use a colour not *rootcol*.\n",
    "\n",
    "Perform the plot for the cosine function $\\cos(z)$ and the polynomials $z^2 -1$ as well as $z^4 -1$. \n",
    "\n",
    "In these examples you might want to use Sympy to find the roots of $\\cos(z)$, $z^2-1$ and $z^4-1$. "
   ]
  },
  {
   "cell_type": "code",
   "execution_count": null,
   "metadata": {
    "collapsed": true
   },
   "outputs": [],
   "source": []
  }
 ],
 "metadata": {
  "anaconda-cloud": {},
  "kernelspec": {
   "display_name": "Python [conda root]",
   "language": "python",
   "name": "conda-root-py"
  },
  "language_info": {
   "codemirror_mode": {
    "name": "ipython",
    "version": 3
   },
   "file_extension": ".py",
   "mimetype": "text/x-python",
   "name": "python",
   "nbconvert_exporter": "python",
   "pygments_lexer": "ipython3",
   "version": "3.5.2"
  }
 },
 "nbformat": 4,
 "nbformat_minor": 1
}
