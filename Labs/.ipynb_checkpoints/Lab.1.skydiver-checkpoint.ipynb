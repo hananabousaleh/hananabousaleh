{
 "cells": [
  {
   "cell_type": "markdown",
   "metadata": {},
   "source": [
    "## Lab 1: Skydiver\n",
    "\n",
    "Describes the velocity as a function of time $v(t)$ for \n",
    "\n",
    "A skydiver jumps from a plane at $h=2000\\mathrm{m}$. At $h_\\mathrm{p} = 300\\mathrm{m}$ the skydiver releases the parachute. How does the velocity evolve as a function of height?\n",
    "\n",
    "1. Calculate problem constant $$k = \\frac{1}{2} \\frac{C_\\mathrm{D} \\rho A}{m}$$  as introduced in class using the astropy units package.\n",
    "2. In addition to the differential equation $\\frac{dv}{dt}$ derived in class solve simultaneously the differential equation $\\frac{dh}{dt} = v$.\n",
    "2. Your plot should include a line for the analytically determined terminal velocity.\n",
    "3. From the terminal velocity, estimate an appropropriate time step for the integration.\n",
    "4. Perform a convergence study by doing a series of 3 to 4 runs with decreasing step size.\n",
    "\n",
    "Please remember the instructions how to approach a programming task:\n",
    "\n",
    "1. Sketch out the algorithm you want to use. This can involve some kind of flow-diagram and writing out the program in pseudo-programing language.\n",
    "2. Implement algorithm; while you write it add reasonable comments, short and relevant. Test each step to make sure you avoid accumulating errors that are harder to find later on.\n",
    "3. Run algorithm and generate results.\n",
    "4. Test the program carefully. What can you do to convince yourself that your algorithm is working correctly?"
   ]
  },
  {
   "cell_type": "code",
   "execution_count": null,
   "metadata": {},
   "outputs": [],
   "source": [
    "import astropy.units as u\n",
    "import matplotlib.pyplot as plt"
   ]
  },
  {
   "cell_type": "code",
   "execution_count": 60,
   "metadata": {},
   "outputs": [
    {
     "name": "stdout",
     "output_type": "stream",
     "text": [
      "66.7423812472\n"
     ]
    }
   ],
   "source": [
    "k = 0.0022; g = 9.8\n",
    "v_t = sqrt(g/k)\n",
    "print(v_t)"
   ]
  },
  {
   "cell_type": "code",
   "execution_count": 150,
   "metadata": {},
   "outputs": [
    {
     "name": "stdout",
     "output_type": "stream",
     "text": [
      "0.749149177264\n"
     ]
    }
   ],
   "source": [
    "#estimate time step\n",
    "dt = 1000/v_t/20\n",
    "print(dt)"
   ]
  },
  {
   "cell_type": "code",
   "execution_count": 176,
   "metadata": {},
   "outputs": [],
   "source": [
    "def rhs_sdiver(vn,dt, hn):\n",
    "    'Evaluate RHS for skydiver problem, advance one time step'\n",
    "    v = vn + dt*(k*vn**2 -g)\n",
    "    h = hn + vn*dt\n",
    "    return v, h"
   ]
  },
  {
   "cell_type": "code",
   "execution_count": null,
   "metadata": {},
   "outputs": [],
   "source": []
  },
  {
   "cell_type": "code",
   "execution_count": 177,
   "metadata": {},
   "outputs": [],
   "source": [
    "tt=[]\n",
    "vv=[]\n",
    "hh=[]\n",
    "tmax=3*1000./v_t\n",
    "t=0; v=0; h=2000; hmin = 300;"
   ]
  },
  {
   "cell_type": "code",
   "execution_count": 178,
   "metadata": {},
   "outputs": [
    {
     "name": "stdout",
     "output_type": "stream",
     "text": [
      "2000\n",
      "(-7.3416619371910619, 2000.0)\n",
      "2000.0\n",
      "(-14.594489764942111, 1994.5)\n",
      "1994.5\n",
      "(-21.585101829068059, 1983.56655)\n",
      "1983.56655\n",
      "(-28.15887344905542, 1967.3960887235855)\n",
      "1967.39608872\n",
      "(-34.193698031910081, 1946.3008918465334)\n",
      "1946.30089185\n",
      "(-39.60835368078218, 1920.6847110983008)\n",
      "1920.6847111\n",
      "(-44.364396379965093, 1891.0121455255457)\n",
      "1891.01214553\n",
      "(-48.462212963847563, 1857.7765944776634)\n",
      "1857.77659448\n",
      "(-51.933103967169139, 1821.4711675073852)\n",
      "1821.47116751\n",
      "(-54.829686239846254, 1782.5655253975942)\n",
      "1782.5655254\n",
      "(-57.216589475473697, 1741.4899110613485)\n",
      "1741.48991106\n",
      "(-59.162711344970646, 1698.6261501299227)\n",
      "1698.62615013\n",
      "(-60.73555145844356, 1654.3044536011071)\n",
      "1654.3044536\n",
      "(-61.997586243841745, 1608.8044651953148)\n",
      "1608.8044652\n",
      "(-63.004336703407375, 1562.3590244683626)\n",
      "1562.35902447\n",
      "(-63.80367724572956, 1515.1593774629162)\n",
      "1515.15937746\n",
      "(-64.435958921973779, 1467.360905147835)\n",
      "1467.36090515\n",
      "(-64.934604477267456, 1419.088759535196)\n",
      "1419.08875954\n",
      "(-65.326929190029986, 1370.4430540150622)\n",
      "1370.44305402\n",
      "(-65.635026610317254, 1321.503438759142)\n",
      "1321.50343876\n",
      "(-65.876623639125725, 1272.3330125742962)\n",
      "1272.33301257\n",
      "(-66.065854981100344, 1222.981594174089)\n",
      "1222.98159417\n",
      "(-66.213936431493607, 1173.4884132697289)\n",
      "1173.48841327\n",
      "(-66.329734044684088, 1123.8842972686386)\n",
      "1123.88429727\n",
      "(-66.420235789735571, 1074.1934315808976)\n",
      "1074.19343158\n",
      "(-66.490936751429999, 1024.4347665853102)\n",
      "1024.43476659\n",
      "(-66.546150338689628, 974.62313602243751)\n",
      "974.623136022\n",
      "(-66.589257674797423, 924.77014224609547)\n",
      "924.770142246\n",
      "(-66.622906217345218, 874.88485464437429)\n",
      "874.884854644\n",
      "(-66.649167198063594, 824.97435926468722)\n",
      "824.974359265\n",
      "(-66.669659968518346, 775.04419049290084)\n",
      "775.044190493\n",
      "(-66.685649933891071, 725.09866957898839)\n",
      "725.098669579\n",
      "(-66.698125518412326, 675.14116979567245)\n",
      "675.141169796\n",
      "(-66.707858550770084, 625.17432393847662)\n",
      "625.174323938\n",
      "(-66.715451579716301, 575.20018658809761)\n",
      "575.200186588\n",
      "(-66.721374911326748, 525.22036092633061)\n",
      "525.220360926\n",
      "(-66.72599557795381, 475.23609780556103)\n",
      "475.236097806\n",
      "(-66.7295999826799, 425.24837311618933)\n",
      "425.248373116\n",
      "(-66.732411591633038, 375.25794818998259)\n",
      "375.25794819\n",
      "(-66.73460475204179, 325.2654169492418)\n",
      "325.265416949\n",
      "(-66.736315481306022, 275.27124270418517)\n",
      "275.271242704\n",
      "(-66.737649889160394, 225.27578686770772)\n",
      "225.275786868\n",
      "(-66.738690751032649, 175.27933136068404)\n",
      "175.279331361\n",
      "(-66.739502637740472, 125.28209609284511)\n",
      "125.282096093\n",
      "(-66.74013591816265, 75.284252600746981)\n",
      "75.2842526007\n",
      "(-66.740629882239944, 25.285934687141598)\n",
      "25.2859346871\n",
      "(-66.741015177474011, -24.712753279245888)\n",
      "-24.7127532792\n"
     ]
    }
   ],
   "source": [
    "print(h)\n",
    "while t < tmax:\n",
    "    \n",
    "    both = rhs_sdiver(v,dt, h)\n",
    "    print(both)\n",
    "    v= both[0]\n",
    "    h= both[1]\n",
    "    print(h)\n",
    "    t+=dt\n",
    "    if h < 0: break\n",
    "    tt.append(t)\n",
    "    vv.append(v)\n",
    "    hh.append(h)"
   ]
  },
  {
   "cell_type": "code",
   "execution_count": 179,
   "metadata": {},
   "outputs": [
    {
     "data": {
      "text/plain": [
       "<matplotlib.text.Text at 0x7fc87361c6d8>"
      ]
     },
     "execution_count": 179,
     "metadata": {},
     "output_type": "execute_result"
    },
    {
     "data": {
      "image/png": "[encoded data removed]",
      "text/plain": [
       "<matplotlib.figure.Figure at 0x7fc87361c7b8>"
      ]
     },
     "metadata": {},
     "output_type": "display_data"
    }
   ],
   "source": [
    "\n",
    "plot(array(hh),array(vv),'o--')\n",
    "xlabel('height')\n",
    "ylabel('v / m/s')"
   ]
  },
  {
   "cell_type": "code",
   "execution_count": null,
   "metadata": {},
   "outputs": [],
   "source": []
  },
  {
   "cell_type": "code",
   "execution_count": null,
   "metadata": {},
   "outputs": [],
   "source": []
  }
 ],
 "metadata": {
  "kernelspec": {
   "display_name": "Python 3",
   "language": "python",
   "name": "python3"
  },
  "language_info": {
   "codemirror_mode": {
    "name": "ipython",
    "version": 3
   },
   "file_extension": ".py",
   "mimetype": "text/x-python",
   "name": "python",
   "nbconvert_exporter": "python",
   "pygments_lexer": "ipython3",
   "version": "3.5.2"
  }
 },
 "nbformat": 4,
 "nbformat_minor": 2
}
