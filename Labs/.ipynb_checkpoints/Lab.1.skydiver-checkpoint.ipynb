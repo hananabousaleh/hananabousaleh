{
 "cells": [
  {
   "cell_type": "markdown",
   "metadata": {},
   "source": [
    "## Lab 1: Skydiver\n",
    "\n",
    "Describes the velocity as a function of time $v(t)$ for \n",
    "\n",
    "A skydiver jumps from a plane at $h=2000\\mathrm{m}$. At $h_\\mathrm{p} = 300\\mathrm{m}$ the skydiver releases the parachute. How does the velocity evolve as a function of height?\n",
    "\n",
    "1. Calculate problem constant $$k = \\frac{1}{2} \\frac{C_\\mathrm{D} \\rho A}{m}$$  as introduced in class using the astropy units package.\n",
    "2. In addition to the differential equation $\\frac{dv}{dt}$ derived in class solve simultaneously the differential equation $\\frac{dh}{dt} = v$.\n",
    "2. Your plot should include a line for the analytically determined terminal velocity.\n",
    "3. From the terminal velocity, estimate an appropropriate time step for the integration.\n",
    "4. Perform a convergence study by doing a series of 3 to 4 runs with decreasing step size.\n",
    "\n",
    "Please remember the instructions how to approach a programming task:\n",
    "\n",
    "1. Sketch out the algorithm you want to use. This can involve some kind of flow-diagram and writing out the program in pseudo-programing language.\n",
    "2. Implement algorithm; while you write it add reasonable comments, short and relevant. Test each step to make sure you avoid accumulating errors that are harder to find later on.\n",
    "3. Run algorithm and generate results.\n",
    "4. Test the program carefully. What can you do to convince yourself that your algorithm is working correctly?"
   ]
  },
  {
   "cell_type": "code",
   "execution_count": 1,
   "metadata": {},
   "outputs": [],
   "source": [
    "import astropy.units as u\n",
    "import matplotlib.pyplot as plt"
   ]
  },
  {
   "cell_type": "code",
   "execution_count": 23,
   "metadata": {},
   "outputs": [
    {
     "data": {
      "text/latex": [
       "$0.002205 \\; \\mathrm{\\frac{1}{m}}$"
      ],
      "text/plain": [
       "<Quantity 0.002205 1 / m>"
      ]
     },
     "execution_count": 23,
     "metadata": {},
     "output_type": "execute_result"
    }
   ],
   "source": [
    "p = 1.225 *u.kg/u.m**3 #density\n",
    "m = 75*u.kg #mass\n",
    "a = 0.450*u.m**2 #cross secitonal area\n",
    "cd = 0.3 #drag coefficient\n",
    "k = cd*p*a/m #our goal constant\n",
    "k"
   ]
  },
  {
   "cell_type": "code",
   "execution_count": 34,
   "metadata": {},
   "outputs": [
    {
     "name": "stdout",
     "output_type": "stream",
     "text": [
      "66.7423812472\n"
     ]
    }
   ],
   "source": [
    "k = 0.0022;\n",
    "g = 9.8\n",
    "v_t = sqrt(g/k)\n",
    "print(v_t)"
   ]
  },
  {
   "cell_type": "code",
   "execution_count": 51,
   "metadata": {},
   "outputs": [
    {
     "name": "stdout",
     "output_type": "stream",
     "text": [
      "0.499432784843\n"
     ]
    }
   ],
   "source": [
    "#estimate time step\n",
    "dt = 1000/v_t/30\n",
    "print(dt)"
   ]
  },
  {
   "cell_type": "code",
   "execution_count": 52,
   "metadata": {},
   "outputs": [],
   "source": [
    "def rhs_sdiver(vn,dt, hn):\n",
    "    'Evaluate RHS for skydiver problem, advance one time step'\n",
    "    v = vn + dt*(k*vn**2 -g)\n",
    "    h = hn + vn*dt\n",
    "    return v, h"
   ]
  },
  {
   "cell_type": "code",
   "execution_count": null,
   "metadata": {},
   "outputs": [],
   "source": []
  },
  {
   "cell_type": "code",
   "execution_count": 58,
   "metadata": {},
   "outputs": [],
   "source": [
    "tt=[]\n",
    "vv=[]\n",
    "hh=[]\n",
    "\n",
    "tmax=3*1000./v_t\n",
    "t=0; v=0; h=2000; hmin = 300;\n",
    "tt.append(t)\n",
    "vv.append(v)\n",
    "hh.append(h)"
   ]
  },
  {
   "cell_type": "code",
   "execution_count": 59,
   "metadata": {},
   "outputs": [],
   "source": [
    "while h > hmin:\n",
    "    \n",
    "    both = rhs_sdiver(v,dt, h)\n",
    "    v= both[0]\n",
    "    h= both[1]\n",
    "    t+=dt\n",
    "    if h < hmin: break\n",
    "    tt.append(t)\n",
    "    vv.append(v)\n",
    "    hh.append(h)"
   ]
  },
  {
   "cell_type": "code",
   "execution_count": 65,
   "metadata": {},
   "outputs": [
    {
     "data": {
      "text/plain": [
       "<matplotlib.text.Text at 0x7fab71c7de48>"
      ]
     },
     "execution_count": 65,
     "metadata": {},
     "output_type": "execute_result"
    },
    {
     "data": {
      "image/png": "[encoded data removed]",
      "text/plain": [
       "<matplotlib.figure.Figure at 0x7fab71c8df28>"
      ]
     },
     "metadata": {},
     "output_type": "display_data"
    }
   ],
   "source": [
    "plt.figure(figsize = (17,12))\n",
    "plt.plot(array(hh),array(vv),'o--')\n",
    "plt.xlim(2100,200)\n",
    "xlabel('height / m')\n",
    "ylabel('v / m/s')"
   ]
  },
  {
   "cell_type": "code",
   "execution_count": null,
   "metadata": {},
   "outputs": [],
   "source": []
  },
  {
   "cell_type": "code",
   "execution_count": null,
   "metadata": {},
   "outputs": [],
   "source": []
  }
 ],
 "metadata": {
  "kernelspec": {
   "display_name": "Python 3",
   "language": "python",
   "name": "python3"
  },
  "language_info": {
   "codemirror_mode": {
    "name": "ipython",
    "version": 3
   },
   "file_extension": ".py",
   "mimetype": "text/x-python",
   "name": "python",
   "nbconvert_exporter": "python",
   "pygments_lexer": "ipython3",
   "version": "3.5.2"
  }
 },
 "nbformat": 4,
 "nbformat_minor": 2
}
