{
 "cells": [
  {
   "cell_type": "markdown",
   "metadata": {},
   "source": [
    "# Lab -- Sympy.1\n",
    "\n",
    "This lab gives you a few tasks to help you become familiar with Sympy. \n",
    "\n",
    "1) In class we saw that Sympy had trouble recognising that expressions like\n",
    "\n",
    "$$\\frac{1}{\\sqrt 2 - 1} = \\sqrt{2} + 1$$\n",
    "\n",
    "are true (*).  Find a way to use Sympy's <a href=\"http://docs.sympy.org/latest/tutorial/simplification.html\">simplify</a> command to verify (in Sympy) that the above equality is true.\n",
    "\n",
    "(*) - In a strict sense, Sympy does this task very well, the point of this exercise is to learn that the equality symbol is not how one asks Sympy to check for equality of Sympy objects."
   ]
  },
  {
   "cell_type": "code",
   "execution_count": 16,
   "metadata": {},
   "outputs": [
    {
     "name": "stdout",
     "output_type": "stream",
     "text": [
      "False \n",
      "\n",
      "True\n"
     ]
    }
   ],
   "source": [
    "import sympy as sp\n",
    "\n",
    "#no simplify() function\n",
    "print(1/(sp.sqrt(2)-1) == sp.sqrt(2)+1, \"\\n\")\n",
    "\n",
    "#simplify function\n",
    "print(sp.simplify(1/(sp.sqrt(2)-1)) == sp.simplify(sp.sqrt(2)+1))"
   ]
  },
  {
   "cell_type": "markdown",
   "metadata": {},
   "source": [
    "2) Make the function $$f(x) = x^5 - x^4 + x^3 - x^2 + x - 1$$\n",
    "into a sympy expression.  Use Sympy's substitute command (*subs*) to replace the variable\n",
    "$x$ by $x+1$, and expand the expression as a polynomial in $x$, i.e. \n",
    "\n",
    "$$f(x+1) = a_5 x^5 + a_4 x^4 + a_3 x^3 + a_2 x^2 + a_1 x + a_0$$"
   ]
  },
  {
   "cell_type": "code",
   "execution_count": 2,
   "metadata": {},
   "outputs": [
    {
     "name": "stdout",
     "output_type": "stream",
     "text": [
      " 5    4    3    2        \n",
      "x  - x  + x  - x  + x - 1\n",
      "\n",
      "\n",
      "           5          4          3          2\n",
      "x + (x + 1)  - (x + 1)  + (x + 1)  - (x + 1) \n",
      "\n",
      "\n",
      " 5      4      3      2      \n",
      "x  + 4⋅x  + 7⋅x  + 6⋅x  + 3⋅x\n"
     ]
    }
   ],
   "source": [
    "x = sp.Symbol('x')\n",
    "f = x**5 - x**4 + x**3 - x**2 + x - 1\n",
    "sp.pprint(f)\n",
    "print(\"\\n\")\n",
    "\n",
    "#substituting x with x+1, save as expression g\n",
    "g = f.subs(x, x+1)\n",
    "\n",
    "#printing the substituted equation\n",
    "sp.pprint(g)\n",
    "print(\"\\n\")\n",
    "\n",
    "#expanding g\n",
    "sp.pprint(sp.expand(g))"
   ]
  },
  {
   "cell_type": "markdown",
   "metadata": {},
   "source": [
    "3) Often when one uses trig functions \"in practice\" one gets bogged-down in the many equivalent ways of writing the same trig function.  For example, there are the equalities\n",
    "\n",
    "$$ \\sin^2 x + \\cos^2 x = 1$$\n",
    "\n",
    "and\n",
    "\n",
    "$$ 2 \\sin x + \\cos x = -\\sqrt{5} \\sin(x - 2 \\arctan(2+\\sqrt{5}))$$\n",
    "\n",
    "etc. \n",
    "\n",
    "Use Sympy's *trigonometric simplification and manipulation* algorithms to write\n",
    "\n",
    "$$ f(x) = 3 \\sin x - \\cos x $$\n",
    "\n",
    "in the form \n",
    "\n",
    "$$ f(x) = A \\sin(x-\\phi)$$\n",
    "\n",
    "in this form $A$ would be called the *amplitude* and $\\phi$ the phase of the function."
   ]
  },
  {
   "cell_type": "code",
   "execution_count": 70,
   "metadata": {},
   "outputs": [
    {
     "name": "stdout",
     "output_type": "stream",
     "text": [
      "3⋅sin(x) - cos(x)\n"
     ]
    }
   ],
   "source": [
    "x = sp.Symbol('x')\n",
    "f = 3*sp.sin(x) - sp.cos(x)\n",
    "sp.pprint(f)"
   ]
  },
  {
   "cell_type": "code",
   "execution_count": 82,
   "metadata": {},
   "outputs": [
    {
     "name": "stdout",
     "output_type": "stream",
     "text": [
      "{a: 0}\n",
      "{b: x}\n",
      "{b: x + π}\n"
     ]
    }
   ],
   "source": [
    "a, b = sp.symbols('a b')\n",
    "sol = sp.solve([3*sp.sin(x)-sp.cos(x), a*sp.sin(x-b)], a, b)\n",
    "for S in sol:\n",
    "    sp.pprint(S)"
   ]
  },
  {
   "cell_type": "code",
   "execution_count": 89,
   "metadata": {},
   "outputs": [
    {
     "name": "stdout",
     "output_type": "stream",
     "text": [
      "⎛π ⎞\n",
      "⎜─,⎟\n",
      "⎝2 ⎠\n",
      "⎛3⋅π ⎞\n",
      "⎜───,⎟\n",
      "⎝ 2  ⎠\n",
      "(0,)\n",
      "(π,)\n"
     ]
    }
   ],
   "source": [
    "sol1 = sp.solve([3*sp.sin(x), sp.sin(x)*sp.cos(b)], b)\n",
    "sol2 = sp.solve([-1*sp.cos(x), sp.sin(b)*sp.cos(x)], b)\n",
    "for S in sol1:\n",
    "    sp.pprint(S)\n",
    "\n",
    "for S in sol2:\n",
    "    sp.pprint(S)"
   ]
  },
  {
   "cell_type": "code",
   "execution_count": 88,
   "metadata": {},
   "outputs": [
    {
     "data": {
      "text/plain": [
       "sin(x - y)"
      ]
     },
     "execution_count": 88,
     "metadata": {},
     "output_type": "execute_result"
    }
   ],
   "source": [
    "y = sp.Symbol('y')\n",
    "sp.trigsimp(sp.sin(x)*sp.cos(y)-sp.sin(y)*sp.cos(x))"
   ]
  },
  {
   "cell_type": "markdown",
   "metadata": {},
   "source": []
  }
 ],
 "metadata": {
  "kernelspec": {
   "display_name": "Python 3",
   "language": "python",
   "name": "python3"
  },
  "language_info": {
   "codemirror_mode": {
    "name": "ipython",
    "version": 3
   },
   "file_extension": ".py",
   "mimetype": "text/x-python",
   "name": "python",
   "nbconvert_exporter": "python",
   "pygments_lexer": "ipython3",
   "version": "3.5.2"
  }
 },
 "nbformat": 4,
 "nbformat_minor": 1
}
