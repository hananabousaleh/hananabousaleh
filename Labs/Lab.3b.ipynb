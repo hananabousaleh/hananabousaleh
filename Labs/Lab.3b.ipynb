{
 "cells": [
  {
   "cell_type": "markdown",
   "metadata": {},
   "source": [
    "# Lab 3b"
   ]
  },
  {
   "cell_type": "markdown",
   "metadata": {
    "deletable": true,
    "editable": true
   },
   "source": [
    "## Nuclear reactions\n",
    "\n",
    "The elements are made by nuclear reactions in stars. The evolution of isotopes is described by a set of ODEs, one for each isotope. In a simple example, we consider only one reaction: \n",
    "\n",
    "$$^{12}\\mathrm{C}+^{1}\\mathrm{H} \\rightarrow ^{13}\\mathrm{N} + \\mathrm{\\gamma}$$\n",
    "\n",
    "which describes the reaction of the carbon isotope $^{12}\\mathrm{C}$ with one proton, or hydrogen nucleus $^{1}\\mathrm{H}$ which leads to the production of the nitrogen isotope $^{13}\\mathrm{N}$.\n",
    "\n",
    "Solve the ODE the describes the formation of $^{13}\\mathrm{N}$ from this reaction."
   ]
  },
  {
   "cell_type": "markdown",
   "metadata": {
    "deletable": true,
    "editable": true
   },
   "source": [
    "The rate coefficients that describe how often the reactions occur are dependent on the temperature. To described this generally you have to take the coeffiecient as a function of T from a nuclear physics data table and interpolate appropriately. Here, we will only consider a case at constant $T=9\\times10^{7}\\mathrm{K}$, and a density of $\\rho = 100 \\mathrm{g/cm^3}$. "
   ]
  },
  {
   "cell_type": "markdown",
   "metadata": {
    "deletable": true,
    "editable": true
   },
   "source": [
    "The evolution of each  isotope is governed by a rate equation that has on the right-hand side the sum of all production and destruction terms. The reaction rate is the product of the cross section and the\n",
    "relative velocity in the center-of-mass system averaged over the\n",
    "appropriate distribution function, and can be found in nuclear data tables, e.g. [NACRE compilation](http://www.astro.ulb.ac.be/nacreii)). "
   ]
  },
  {
   "cell_type": "markdown",
   "metadata": {
    "deletable": true,
    "editable": true
   },
   "source": [
    "The number density is expressed in terms of a number fraction or mole\n",
    "fraction $Y=X/A$, with $A$ the atomic mass number and $X$ the mass\n",
    "fraction.\n",
    "\n",
    "For the case described above we have the ODE"
   ]
  },
  {
   "cell_type": "markdown",
   "metadata": {},
   "source": [
    "$$\n",
    "\\frac{dY_{N13} }{dt} = \\rho Y_{H}  Y_{C12}  r_{C12+H} \n",
    "$$"
   ]
  },
  {
   "cell_type": "markdown",
   "metadata": {},
   "source": [
    "But as $^{13}\\mathrm{N}$ is produced $^{12}\\mathrm{C}$ and $^{1}\\mathrm{H}$ are destroyed. We have one more ODE for each isotope $^{12}\\mathrm{C}$ and $^{1}\\mathrm{H}$ in which the RHS of the first equation appears there as a destruction term instead of a production term.\n",
    "\n",
    "$$\n",
    "\\frac{dY_{H1} }{dt} = - \\rho Y_{H}  Y_{C12}  r_{C12+H} \n",
    "$$\n",
    "\n",
    "$$\n",
    "\\frac{dY_{C12} }{dt} = - \\rho Y_{H}  Y_{C12}  r_{C12+H} \n",
    "$$\n",
    "\n",
    "In a real star, of course there would be more production and destruction terms. $^{13}\\mathrm{N}$ would decay and be further processed while other reactions would replenish $^{12}\\mathrm{C}$."
   ]
  },
  {
   "cell_type": "markdown",
   "metadata": {
    "deletable": true,
    "editable": true
   },
   "source": [
    "Use as initial conditions mass fraction of protons _XH = 0.7_ and for carbon _XC12 = 0.3_. The reaction rate according to the NACRE table is given below."
   ]
  },
  {
   "cell_type": "code",
   "execution_count": null,
   "metadata": {},
   "outputs": [],
   "source": [
    "rho = 100           # cgs\n",
    "rate = 7.36E-06     # C12(p,g) for T = 9e7K\n",
    "rate_rho = rate*rho"
   ]
  },
  {
   "cell_type": "markdown",
   "metadata": {},
   "source": [
    "Turn the initial conditions into number fractions:"
   ]
  },
  {
   "cell_type": "markdown",
   "metadata": {},
   "source": [
    "Y index | isotope | mass A\n",
    "--------|--------|-------\n",
    "0 | H  | 1\n",
    "1 | C12 | 12\n",
    "2 | N13 | 13"
   ]
  },
  {
   "cell_type": "markdown",
   "metadata": {},
   "source": [
    "Create a function that takes the `Y` vector and `rate_rho` as input and returns an array with the RHS of the three ODEs. "
   ]
  },
  {
   "cell_type": "code",
   "execution_count": null,
   "metadata": {},
   "outputs": [],
   "source": [
    "\n"
   ]
  },
  {
   "cell_type": "markdown",
   "metadata": {},
   "source": [
    "Specify the initial condition."
   ]
  },
  {
   "cell_type": "code",
   "execution_count": null,
   "metadata": {},
   "outputs": [],
   "source": [
    "X0 = array([0.7,0.3,0.])\n",
    "A  = array([1,12,13])\n",
    "Y0 = X0/A"
   ]
  },
  {
   "cell_type": "code",
   "execution_count": null,
   "metadata": {},
   "outputs": [],
   "source": [
    "# testing output\n"
   ]
  },
  {
   "cell_type": "markdown",
   "metadata": {},
   "source": [
    "Write a stepping loop that advances the simiulation from the initial conditions with a series of Euler steps. Set the constant time step and  and the final end time of the simulation. As a start you would aim for 50 time steps that decrease the initial $^{12}C$ number fraction by about a factor 50."
   ]
  },
  {
   "cell_type": "code",
   "execution_count": null,
   "metadata": {},
   "outputs": [],
   "source": [
    "dt= ; t_end =   # in seconds\n"
   ]
  },
  {
   "cell_type": "markdown",
   "metadata": {},
   "source": [
    "Print the results in a formatted table with header."
   ]
  },
  {
   "cell_type": "code",
   "execution_count": null,
   "metadata": {},
   "outputs": [],
   "source": [
    "form_str  = \"%.1e \"+ 3*\"%.6e \"\n",
    "form_str2 = \n",
    "print(form_str2 % (\"Time\",\"H1\",\"C12\",\"N13\"))\n",
    "[print(form_str % ...) for i in ...]"
   ]
  },
  {
   "cell_type": "markdown",
   "metadata": {},
   "source": [
    "Plot the time evolution of all three species. Included x and y labels, and a legend."
   ]
  },
  {
   "cell_type": "code",
   "execution_count": null,
   "metadata": {},
   "outputs": [],
   "source": []
  },
  {
   "cell_type": "markdown",
   "metadata": {},
   "source": [
    "### Verification and validation\n",
    "\n",
    "1. Perform a convergence test for verification.\n",
    "2. Does this problem have an analytical solution? What is it? Compare it with your numerical solution."
   ]
  },
  {
   "cell_type": "code",
   "execution_count": null,
   "metadata": {},
   "outputs": [],
   "source": []
  }
 ],
 "metadata": {
  "kernelspec": {
   "display_name": "Python 3",
   "language": "python",
   "name": "python3"
  },
  "language_info": {
   "codemirror_mode": {
    "name": "ipython",
    "version": 3
   },
   "file_extension": ".py",
   "mimetype": "text/x-python",
   "name": "python",
   "nbconvert_exporter": "python",
   "pygments_lexer": "ipython3",
   "version": "3.5.2"
  }
 },
 "nbformat": 4,
 "nbformat_minor": 2
}
