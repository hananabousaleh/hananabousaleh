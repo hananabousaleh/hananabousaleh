{
 "cells": [
  {
   "cell_type": "markdown",
   "metadata": {},
   "source": [
    "# Lab 1a"
   ]
  },
  {
   "cell_type": "markdown",
   "metadata": {},
   "source": [
    "## The first small task\n",
    "1. As explained in class, create yourself a BitBucket account.\n",
    "2. Create a repository called 'mp248'.\n",
    "3. In settings, share your repository with the course instructurs (BitBucket IDs `ryan_budney` and `fherwig`).\n",
    "4. Execute the code cell below.\n",
    "5. In the \"January 8 - January 14\" week on Course Spaces there is a feedback form called _Bitbucket Small Task_. You will need the output from this program to complete the form, and thereby the first _small task_.\n",
    "\n",
    "This exercise serves two purposes: \n",
    "\n",
    "* To ensure you can execute a the cloud ipython notebook.\n",
    "* It allows us to acquire your bitbucket user IDs.  We will need these to pull and grade your homework. \n",
    "\n"
   ]
  },
  {
   "cell_type": "code",
   "execution_count": null,
   "metadata": {
    "collapsed": true
   },
   "outputs": [],
   "source": [
    "import sys\n",
    "bitacct = input(\"Enter your BitBucket user ID: \")\n",
    "\n",
    "retval = 0\n",
    "for i in range(0, len(bitacct)):\n",
    "    retval = 2*retval + (ord(bitacct[i])%2)\n",
    "    \n",
    "print(\"\\n\\n\"+\"Input this in your BitBucket 'small task' field on Course Spaces: \"+str(retval))"
   ]
  },
  {
   "cell_type": "markdown",
   "metadata": {},
   "source": [
    "## Shell, CLI\n",
    "\n",
    "Create in your own repository a directory `notes`. You can copy the Lecture notebook of the day to your own `notes` dir and edit, review, change it, and try out things in there. Then commit your own, enhanced version of the course notebooks to your own repository for future reference. \n",
    "\n",
    "\n",
    "### Review and cheat sheet\n",
    "Start a new notebook in your `notes` directory, and create a cheat sheet for commands to be used on the command line.\n",
    "For each of the shell commands provided in notebook _1. Command line interface ..._ look up the command with the `man` command and create a table with a brief explanation:\n",
    "\n",
    "command | brief exaplanation\n",
    "--------|-------------------\n",
    " emacs, vi or nano | text file editor\n",
    "  more/less/tail/head | pager for text files\n",
    "  cat | \n",
    "  touch |\n",
    "  \n",
    "Add this notebook \n",
    "  "
   ]
  },
  {
   "cell_type": "markdown",
   "metadata": {},
   "source": [
    "### Exercise 1\n",
    "- create a directory called `tmp` and change into it\n",
    "- create a text file (with `touch`) called `tmp.txt`, edit it with the CLI editor of your choice to fill it with the names of lots of people you know; include the names _Carol_ and _Thomas_ even if you don't know people with that name\n",
    "- change the file name to `names.txt`\n",
    "- how many lines does it have? (don't count, use a shell command)\n",
    "- search through the file for all incidences of the letter `o` and of the string `mas`, and report how many instances there are, also find all entries with either the string `ol` or `om`\n",
    "- use `man` to look at the various options for `grep`, and then look for lines that do NOT have the letter `o` in it.\n",
    "- go up one directory, and determine the sizes of  \n",
    "    1. this new present working directory, and \n",
    "    2. the just the previoulsy created directory `tmp`.\n",
    "- use `man` to look at the options for `rm`, and then delete *ONLY* the entire directory you just created in one command.\n",
    "- use `history` to see what you just did!\n",
    "- save the history into a file called `history.txt`\n",
    "\n",
    "### Exercise 2\n",
    "* copy and paste the instructions from Exercise 1 (without the header) into a file called `ex1.txt`\n",
    "* write a shell script called `modify_ex1.sh` that analyses and modifies this file in the following way:\n",
    "    - report how many lines it has\n",
    "    - report in how many lines the string `the` appears\n",
    "    - replace in that file all strings `the` with `THE` and save to a new file called `ex2.txt`; do not alter `ex1.txt`"
   ]
  },
  {
   "cell_type": "markdown",
   "metadata": {},
   "source": [
    "## Git\n",
    "1. Start a terminal or bash notebook in Syzygy \n",
    "2. Create your `.gitconfig` file with the following two commands\n",
    "    * `$ git config --global user.name \"John Doe\"`\n",
    "    * `$ git config --global user.email johndoe@example.com`\n",
    "3. Create an ssh key and upload to your BitBucket account:\n",
    "    * `$ ssh-keygen` \n",
    "    * Press enter three times for default settings\n",
    "    * `$ cat .ssh/id_rsa.pub`\n",
    "    * Copy and paste into _Settings/Access Keys_ in BB account.\n",
    "4. Clone the repository to your Syzygy instance. \n",
    "    * `$ git clone git@bitbucket.org:UserName/mp248.git` \n",
    "    * `$ cd mp248` \n",
    "5. Create in your repository a directory called `Lab1a`.\n",
    "6. Add to this directory the following files:\n",
    "    * from Ex 1: `history.txt`\n",
    "    * from Ex 2: `modify_ex1.sh`, `ex1.txt`, `ex2.txt` and `output.txt`\n",
    "7. Commit the directory `Lab1a` to your repository and push to BitBucket (check that the files are indeed on BitBucket)."
   ]
  },
  {
   "cell_type": "code",
   "execution_count": null,
   "metadata": {
    "collapsed": true
   },
   "outputs": [],
   "source": []
  }
 ],
 "metadata": {
  "anaconda-cloud": {},
  "kernelspec": {
   "display_name": "Python 3",
   "language": "python",
   "name": "python3"
  },
  "language_info": {
   "codemirror_mode": {
    "name": "ipython",
    "version": 3
   },
   "file_extension": ".py",
   "mimetype": "text/x-python",
   "name": "python",
   "nbconvert_exporter": "python",
   "pygments_lexer": "ipython3",
   "version": "3.5.2"
  }
 },
 "nbformat": 4,
 "nbformat_minor": 2
}
