{
 "cells": [
  {
   "cell_type": "markdown",
   "metadata": {},
   "source": [
    "## Sympy lab 3\n",
    "\n",
    "In this lab we will ask Sympy to solve a few typical ODEs one sees in formulaic differential equations courses.\n",
    "\n",
    "1) Ask Sympy to find the solutions to the logistic ODE:\n",
    "\n",
    "$$ y' = y(1-y)$$\n",
    "\n",
    "2) Ask Sympy to find the solutions to the ODE:\n",
    "\n",
    "$$ y'' = -Ay $$\n",
    "\n",
    "with $A \\geq 0$ a non-negative constant.\n",
    "\n",
    "3) Ask Sympy to find the solutions to the ODE:\n",
    "\n",
    "$$ \\pmatrix{x \\cr y}' = \\pmatrix{x \\cr y} + \\pmatrix{ -y \\cr x}$$\n"
   ]
  },
  {
   "cell_type": "code",
   "execution_count": null,
   "metadata": {},
   "outputs": [],
   "source": []
  },
  {
   "cell_type": "code",
   "execution_count": null,
   "metadata": {},
   "outputs": [],
   "source": []
  },
  {
   "cell_type": "code",
   "execution_count": null,
   "metadata": {},
   "outputs": [],
   "source": []
  }
 ],
 "metadata": {
  "kernelspec": {
   "display_name": "Python 3",
   "language": "python",
   "name": "python3"
  },
  "language_info": {
   "codemirror_mode": {
    "name": "ipython",
    "version": 3
   },
   "file_extension": ".py",
   "mimetype": "text/x-python",
   "name": "python",
   "nbconvert_exporter": "python",
   "pygments_lexer": "ipython3",
   "version": "3.5.2"
  }
 },
 "nbformat": 4,
 "nbformat_minor": 2
}
