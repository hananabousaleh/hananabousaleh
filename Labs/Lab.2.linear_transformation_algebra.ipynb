{
 "cells": [
  {
   "cell_type": "markdown",
   "metadata": {},
   "source": [
    "# Linear Transformation and Linear Algebra"
   ]
  },
  {
   "cell_type": "markdown",
   "metadata": {},
   "source": [
    "## Linear transformation\n",
    "\n",
    "1. Create a data set of points in 2D that constitute a square. Use the same techniques as those introduced in class for building the cube from points along the edges.\n",
    "2. Make a plot of the square and give points belonging to each side a different color.\n",
    "3. Apply the horizintal shear transformation with a shear parameter $m=1$. Plot the transformed point set.\n",
    "4. Apply the rotation  transformation with $\\Theta = 45\\deg$ in the counterclockwise direction. Plot the transformed point set."
   ]
  },
  {
   "cell_type": "code",
   "execution_count": 1,
   "metadata": {},
   "outputs": [
    {
     "name": "stdout",
     "output_type": "stream",
     "text": [
      "Populating the interactive namespace from numpy and matplotlib\n"
     ]
    }
   ],
   "source": [
    "%pylab inline\n",
    "import numpy as np\n",
    "import matplotlib.pyplot as mlp\n",
    "from mpl_toolkits.mplot3d import Axes3D"
   ]
  },
  {
   "cell_type": "code",
   "execution_count": 2,
   "metadata": {},
   "outputs": [],
   "source": [
    "n=20\n",
    "c=1.\n",
    "pencil = np.linspace(-c,c,n)\n",
    "upper = c * ones(n)\n",
    "lower = -c + zeros(n)"
   ]
  },
  {
   "cell_type": "code",
   "execution_count": 41,
   "metadata": {},
   "outputs": [],
   "source": [
    "#print(pencil, \"\\n\", upper, \"\\n\", lower)"
   ]
  },
  {
   "cell_type": "code",
   "execution_count": 4,
   "metadata": {},
   "outputs": [],
   "source": [
    "line = array([pencil, upper, lower])\n",
    "# reshape to have points list needed for transformation\n",
    "one_edge = reshape(line.ravel(order='F'),(n,3))"
   ]
  },
  {
   "cell_type": "code",
   "execution_count": 42,
   "metadata": {},
   "outputs": [],
   "source": [
    "#line"
   ]
  },
  {
   "cell_type": "code",
   "execution_count": 43,
   "metadata": {},
   "outputs": [],
   "source": [
    "#ravel will flattened the array\n",
    "#arguement is for deciding how to flatten the array.\n",
    "# if C, then it will flatten by column --> DOWN\n",
    "# if F, then it will flatten by row --> ACROSS\n",
    "\n",
    "#line.ravel(order='F')"
   ]
  },
  {
   "cell_type": "code",
   "execution_count": 44,
   "metadata": {},
   "outputs": [],
   "source": [
    "#first argument is how many indices you want, ie how many arrays\n",
    "#second argument is how many elements in each array\n",
    "## we want two coordinates in each point --> 2D\n",
    "\n",
    "#reshape(line.ravel(order='F'),(n,3))"
   ]
  },
  {
   "cell_type": "code",
   "execution_count": 8,
   "metadata": {},
   "outputs": [],
   "source": [
    "# how to build all of the edges?\n",
    "dummy_sides = []\n",
    "r=['u','l']\n",
    "for j in r:\n",
    "        dummy_sides.append(['p',j])"
   ]
  },
  {
   "cell_type": "code",
   "execution_count": 9,
   "metadata": {},
   "outputs": [
    {
     "data": {
      "text/plain": [
       "[['p', 'u'], ['p', 'l']]"
      ]
     },
     "execution_count": 9,
     "metadata": {},
     "output_type": "execute_result"
    }
   ],
   "source": [
    "dummy_sides"
   ]
  },
  {
   "cell_type": "code",
   "execution_count": 10,
   "metadata": {},
   "outputs": [
    {
     "name": "stdout",
     "output_type": "stream",
     "text": [
      "['u' 'p']\n",
      "['l' 'p']\n"
     ]
    }
   ],
   "source": [
    "# and the other_dummy_sides\n",
    "for this in dummy_sides:\n",
    "    for i in [1]:\n",
    "        print(roll(array(this),i))"
   ]
  },
  {
   "cell_type": "code",
   "execution_count": 11,
   "metadata": {},
   "outputs": [],
   "source": [
    "square_sides = []\n",
    "r=[upper,lower]\n",
    "for j in r:\n",
    "        square_sides.append([pencil,j])"
   ]
  },
  {
   "cell_type": "code",
   "execution_count": 45,
   "metadata": {},
   "outputs": [],
   "source": [
    "#square_sides"
   ]
  },
  {
   "cell_type": "code",
   "execution_count": 13,
   "metadata": {},
   "outputs": [],
   "source": [
    "# but first add sides with pencil in y and z coordinate\n",
    "other_square_sides=[]\n",
    "for this in square_sides:\n",
    "    for i in [1]:\n",
    "        other_square_sides.append(roll(array(this),i,axis=0))"
   ]
  },
  {
   "cell_type": "code",
   "execution_count": 46,
   "metadata": {},
   "outputs": [],
   "source": [
    "#other_square_sides"
   ]
  },
  {
   "cell_type": "code",
   "execution_count": 47,
   "metadata": {},
   "outputs": [],
   "source": [
    "# each of these sides have to be reshaped to be an array of 3D points\n",
    "\n",
    "#reshape(array(square_sides[0]).ravel(order='F'),(n,2))"
   ]
  },
  {
   "cell_type": "code",
   "execution_count": 16,
   "metadata": {},
   "outputs": [],
   "source": [
    "square_sides_points = []\n",
    "for this in square_sides+other_square_sides:\n",
    "    square_sides_points.append(reshape(array(this).ravel(order='F'),(n,2)))"
   ]
  },
  {
   "cell_type": "code",
   "execution_count": 48,
   "metadata": {},
   "outputs": [],
   "source": [
    "#square_sides_points"
   ]
  },
  {
   "cell_type": "code",
   "execution_count": 18,
   "metadata": {},
   "outputs": [],
   "source": [
    "def transp(points):\n",
    "    return array(points).T[0], array(points).T[1];"
   ]
  },
  {
   "cell_type": "code",
   "execution_count": 102,
   "metadata": {},
   "outputs": [],
   "source": [
    "#multiply n by 4 because there are 4 sides to a square\n",
    "square_vecs = reshape(array(square_sides_points),(4*n,2))"
   ]
  },
  {
   "cell_type": "code",
   "execution_count": 49,
   "metadata": {},
   "outputs": [],
   "source": [
    "#square_vecs"
   ]
  },
  {
   "cell_type": "code",
   "execution_count": 21,
   "metadata": {},
   "outputs": [],
   "source": [
    "x1, y1 = transp(square_vecs)"
   ]
  },
  {
   "cell_type": "code",
   "execution_count": 24,
   "metadata": {},
   "outputs": [],
   "source": [
    "# shear mapping y-direction\n",
    "sy = 1\n",
    "T1 = matrix([[1,sy],[0,1]])"
   ]
  },
  {
   "cell_type": "code",
   "execution_count": 25,
   "metadata": {},
   "outputs": [
    {
     "name": "stdout",
     "output_type": "stream",
     "text": [
      "[[1 1]\n",
      " [0 1]]\n"
     ]
    }
   ],
   "source": [
    "vecs1 = square_vecs\n",
    "Ta = T1\n",
    "# transformation:\n",
    "trans_vec = []\n",
    "for i in range(len(vecs1)):\n",
    "    this_tv = Ta.dot(vecs1[i]).A1\n",
    "    trans_vec.append(this_tv)\n",
    "\n",
    "# transpose to make plotable arrays\n",
    "x2, y2 = transp(trans_vec)\n",
    "print(T1)"
   ]
  },
  {
   "cell_type": "code",
   "execution_count": 26,
   "metadata": {},
   "outputs": [
    {
     "name": "stdout",
     "output_type": "stream",
     "text": [
      "[[-0.70710678 -0.70710678]\n",
      " [ 0.70710678 -0.70710678]]\n"
     ]
    }
   ],
   "source": [
    "#rotation counterclockwise 45 degrees\n",
    "theta = 3*np.pi/4\n",
    "T2 = matrix([[np.cos(theta), -np.sin(theta)],[np.sin(theta), np.cos(theta)]])\n",
    "print(T2)"
   ]
  },
  {
   "cell_type": "code",
   "execution_count": 27,
   "metadata": {},
   "outputs": [],
   "source": [
    "vecs2 = square_vecs\n",
    "Tb = T2\n",
    "# transformation:\n",
    "trans_vec = []\n",
    "for i in range(len(vecs2)):\n",
    "    this_tv = Tb.dot(vecs2[i]).A1\n",
    "    trans_vec.append(this_tv)\n",
    "\n",
    "# transpose to make plotable arrays\n",
    "x3, y3 = transp(trans_vec)"
   ]
  },
  {
   "cell_type": "code",
   "execution_count": null,
   "metadata": {},
   "outputs": [],
   "source": []
  },
  {
   "cell_type": "code",
   "execution_count": 28,
   "metadata": {},
   "outputs": [],
   "source": [
    "# scaling\n",
    "t = 1.75\n",
    "T3 = matrix([[t,0],[0,t]])"
   ]
  },
  {
   "cell_type": "code",
   "execution_count": 101,
   "metadata": {},
   "outputs": [],
   "source": [
    "vecs3 = square_vecs\n",
    "Tc = T3\n",
    "# transformation:\n",
    "trans_vec = []\n",
    "for i in range(len(vecs3)):\n",
    "    this_tv = Tc.dot(vecs3[i]).A1\n",
    "    #print(this_tv)\n",
    "    trans_vec.append(this_tv)\n",
    "    \n",
    "# transpose to make plotable arrays\n",
    "x4, y4 = transp(trans_vec)"
   ]
  },
  {
   "cell_type": "code",
   "execution_count": 105,
   "metadata": {},
   "outputs": [
    {
     "data": {
      "text/plain": [
       "80"
      ]
     },
     "execution_count": 105,
     "metadata": {},
     "output_type": "execute_result"
    }
   ],
   "source": [
    "len(x4)"
   ]
  },
  {
   "cell_type": "code",
   "execution_count": 173,
   "metadata": {},
   "outputs": [
    {
     "data": {
      "image/png": "[encoded data removed]",
      "text/plain": [
       "<matplotlib.figure.Figure at 0x7f53f2a24fd0>"
      ]
     },
     "metadata": {},
     "output_type": "display_data"
    }
   ],
   "source": [
    "# messing around with plots\n",
    "plt.figure(figsize=(5,5))\n",
    "count = 20\n",
    "start = 0\n",
    "for i in range(4):\n",
    "    plt.plot(x1[start:count], y1[start:count], 'D')\n",
    "    start = count;\n",
    "    count+= 20;"
   ]
  },
  {
   "cell_type": "code",
   "execution_count": 172,
   "metadata": {},
   "outputs": [
    {
     "data": {
      "image/png": "[encoded data removed]",
      "text/plain": [
       "<matplotlib.figure.Figure at 0x7f53e87d0400>"
      ]
     },
     "metadata": {},
     "output_type": "display_data"
    }
   ],
   "source": [
    "# messing around with plots\n",
    "plt.figure(figsize=(5,5))\n",
    "count = 20\n",
    "start = 0\n",
    "for i in range(4):\n",
    "    plt.plot(x2[start:count], y2[start:count], 'D')\n",
    "    start = count;\n",
    "    count+= 20;"
   ]
  },
  {
   "cell_type": "code",
   "execution_count": 171,
   "metadata": {},
   "outputs": [
    {
     "data": {
      "image/png": "[encoded data removed]",
      "text/plain": [
       "<matplotlib.figure.Figure at 0x7f53f9307940>"
      ]
     },
     "metadata": {},
     "output_type": "display_data"
    }
   ],
   "source": [
    "# messing around with plots\n",
    "plt.figure(figsize=(5,5))\n",
    "count = 20\n",
    "start = 0\n",
    "for i in range(4):\n",
    "    plt.plot(x3[start:count], y3[start:count], 'D')\n",
    "    start = count;\n",
    "    count+= 20;"
   ]
  },
  {
   "cell_type": "code",
   "execution_count": 176,
   "metadata": {},
   "outputs": [
    {
     "data": {
      "text/plain": [
       "[<matplotlib.lines.Line2D at 0x7f53f97836a0>]"
      ]
     },
     "execution_count": 176,
     "metadata": {},
     "output_type": "execute_result"
    },
    {
     "data": {
      "image/png": "[encoded data removed]",
      "text/plain": [
       "<matplotlib.figure.Figure at 0x7f53f9783550>"
      ]
     },
     "metadata": {},
     "output_type": "display_data"
    }
   ],
   "source": [
    "# messing around with plots\n",
    "plt.figure(figsize=(5,5))\n",
    "count = 20\n",
    "start = 0\n",
    "for i in range(4):\n",
    "    plt.plot(x4[start:count], y4[start:count], 'D')\n",
    "    start = count;\n",
    "    count+= 20;\n",
    "plt.plot(x1,y1, '.', color = 'black')"
   ]
  },
  {
   "cell_type": "code",
   "execution_count": 160,
   "metadata": {},
   "outputs": [
    {
     "data": {
      "text/plain": [
       "<matplotlib.legend.Legend at 0x7f53f92cc1d0>"
      ]
     },
     "execution_count": 160,
     "metadata": {},
     "output_type": "execute_result"
    },
    {
     "data": {
      "image/png": "[encoded data removed]",
      "text/plain": [
       "<matplotlib.figure.Figure at 0x7f53e86d64e0>"
      ]
     },
     "metadata": {},
     "output_type": "display_data"
    }
   ],
   "source": [
    "##plotting time\n",
    "plt.figure(figsize = (15,12))\n",
    "plt.plot(x1,y1, 'o', color = 'black', label = 'original square') #original\n",
    "plt.plot(x2,y2, '>', color = 'blue', label = 'horizontal sheer') #sheer by m=1 horizontally\n",
    "plt.plot(x3,y3, 'D', color = 'red', label = '45 degree rotation') #rotate counterclockwise 45 degrees\n",
    "plt.plot(x4,y4, 's', color = 'green', label = 'scaling by 1.75') #scale square by 2\n",
    "xlim(-2.5,2.5)\n",
    "ylim(-2,2)\n",
    "legend(loc=0)"
   ]
  },
  {
   "cell_type": "code",
   "execution_count": null,
   "metadata": {},
   "outputs": [],
   "source": []
  },
  {
   "cell_type": "code",
   "execution_count": null,
   "metadata": {},
   "outputs": [],
   "source": []
  },
  {
   "cell_type": "markdown",
   "metadata": {},
   "source": [
    "## Gaussian elimination\n",
    "\n",
    "1. Create your own linear algebra module `linalg` that can be imported into your notebook (see Part.I unit 4). Add the `dot_prod` function from class to the module. Create a tester cell that demonstrates the function.\n",
    "2. Add a function that takes a matrix (as an array of arrays) and a vector which together represent a set of equations ($\\vec{u} = {\\bf A} \\cdot \\vec{v}$) as input. The function solves the equations, i.e. returns $\\vec{v}$. Use the Gaussian elemination technique. Following the steps from class (Part.III, unit 3).\n",
    "3. Your function should have some checks to prevent the user from misusing the function in the most obvious way. Think about and comment on other not so obvious ways in which your function could fail. "
   ]
  },
  {
   "cell_type": "code",
   "execution_count": null,
   "metadata": {
    "collapsed": true
   },
   "outputs": [],
   "source": [
    "def gausselim(A,u):\n",
    "    '''Gaussian elimination with backsubstution\n",
    "    \n",
    "    This function solves the equation u = A * v, where v, u vectors \n",
    "    of length N and A a NxN matrix.\n",
    "    \n",
    "    input: A, u\n",
    "    output solution vector v\n",
    "    '''\n",
    "    \n",
    "    your code here ....\n",
    "\n",
    "    return v"
   ]
  },
  {
   "cell_type": "markdown",
   "metadata": {},
   "source": [
    "Use the gaussian elimination function as well as a numpy method to solve the following system of equations:\n",
    "$$\\begin{eqnarray*}\n",
    " 3 v_1 +  v_2 + 7 v_3 &= 0 \\\\ \n",
    " 6 v_1 -2  v_2 +  v_3 &= 8 \\\\\n",
    " -5 v_1 + 1 v_2 + 3 v_3 &= 1\n",
    "\\end{eqnarray*}$$\n"
   ]
  },
  {
   "cell_type": "code",
   "execution_count": null,
   "metadata": {},
   "outputs": [],
   "source": []
  }
 ],
 "metadata": {
  "kernelspec": {
   "display_name": "Python 3",
   "language": "python",
   "name": "python3"
  },
  "language_info": {
   "codemirror_mode": {
    "name": "ipython",
    "version": 3
   },
   "file_extension": ".py",
   "mimetype": "text/x-python",
   "name": "python",
   "nbconvert_exporter": "python",
   "pygments_lexer": "ipython3",
   "version": "3.5.2"
  }
 },
 "nbformat": 4,
 "nbformat_minor": 2
}
